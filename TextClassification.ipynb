{
 "cells": [
  {
   "cell_type": "markdown",
   "id": "invalid-border",
   "metadata": {},
   "source": [
   ]
  },
  {
   "cell_type": "markdown",
   "id": "figured-exchange",
   "metadata": {},
   "source": [
    "# Aim"
   ]
  },
  {
   "cell_type": "markdown",
   "id": "incredible-handle",
   "metadata": {},
   "source": [
    "In this assignment, we aimed to interpreate a news article as a machine learning problem.\n",
    "- 1- Scrape news articles from UCD website and pre-process the text data.\n",
    "- 2- Train mechine learning models that classifies the news article as politics, US_News and UK News using binary & multi classifiction.\n",
    "- 3- Testing the performance of our model."
   ]
  },
  {
   "cell_type": "code",
   "execution_count": 1,
   "id": "horizontal-generic",
   "metadata": {},
   "outputs": [],
   "source": [
    "#import packages\n",
    "\n",
    "import requests\n",
    "from bs4 import BeautifulSoup\n",
    "import pandas as pd\n",
    "import numpy as np\n",
    "import pprint\n",
    "import sys"
   ]
  },
  {
   "cell_type": "markdown",
   "id": "immediate-affect",
   "metadata": {},
   "source": [
    "# Task 1: Data Collection"
   ]
  },
  {
   "cell_type": "markdown",
   "id": "latin-victim",
   "metadata": {},
   "source": [
    "## 1-1: Data Selection"
   ]
  },
  {
   "cell_type": "markdown",
   "id": "recognized-princess",
   "metadata": {},
   "source": [
    "3 categories were selected as:\n",
    "*  Politics\n",
    "*  UK_News\n",
    "*  US_News"
   ]
  },
  {
   "cell_type": "markdown",
   "id": "unavailable-filing",
   "metadata": {},
   "source": [
    "## 2-1: Data Scraping"
   ]
  },
  {
   "cell_type": "markdown",
   "id": "ruled-palestinian",
   "metadata": {},
   "source": [
    "From [ this link ](http://mlg.ucd.ie/modules/COMP41680/assignment2/index.html),details regarding all stories corresponding to selected categories from Jan 2020 to Dec 202 was retrived.\n",
    "\n",
    "Data Scrapping Method:\n",
    "\n",
    "* 1- Define 'base_url'.\n",
    "* 2- Using Beautifulsoup and send a request to the base_url and collect all contents and recieve text and change it to an object that could be manipulated (HTML Format).\n",
    "* 3- Defining 3 empty lists to collect titles, categories and snippests of the news.\n",
    "* 4- Inside the 'base url', 12 months with 12 seprated links observed. Based on observation inside soup.prettify(), all these Hypertext REFerence (hrefs) located in <a tag, so we stored them in next_link variable.\n",
    "* 5- All of these 12 links include multiple pages.The code designed in the way that could scrap all of these pages:\n",
    "    * 5-1 : Definig soup varible to read contents of next link\n",
    "    * 5-2 : In <ul class: \"Pagination\" section, what we see is that in <a Class = \"page_link\" href = \"url\" aria-label = \"Next\" exist. While, when we go to the last page in each month, we see that for the last page the href = #. In this way, the next 'next_link' is used for going to next link (next page), and we continue this untill seeing # which means that we reach the last page!\n",
    "* 6- We only scraps titles, categories and snippest, and all of these were located under the ('div', class_ = 'article')section, so we find them and append them to defined list.\n",
    "* 7- All of the collected data stored in DF and changed to .CSV format                                                                          \n",
    "                                                                          "
   ]
  },
  {
   "cell_type": "code",
   "execution_count": 2,
   "id": "south-template",
   "metadata": {},
   "outputs": [
    {
     "name": "stdout",
     "output_type": "stream",
     "text": [
      "Scrapping http://mlg.ucd.ie/modules/COMP41680/assignment2/month-jan-001.html\n",
      "Scrapping http://mlg.ucd.ie/modules/COMP41680/assignment2/month-feb-001.html\n",
      "Scrapping http://mlg.ucd.ie/modules/COMP41680/assignment2/month-mar-001.html\n",
      "Scrapping http://mlg.ucd.ie/modules/COMP41680/assignment2/month-apr-001.html\n",
      "Scrapping http://mlg.ucd.ie/modules/COMP41680/assignment2/month-may-001.html\n",
      "Scrapping http://mlg.ucd.ie/modules/COMP41680/assignment2/month-jun-001.html\n",
      "Scrapping http://mlg.ucd.ie/modules/COMP41680/assignment2/month-jul-001.html\n",
      "Scrapping http://mlg.ucd.ie/modules/COMP41680/assignment2/month-aug-001.html\n",
      "Scrapping http://mlg.ucd.ie/modules/COMP41680/assignment2/month-sep-001.html\n",
      "Scrapping http://mlg.ucd.ie/modules/COMP41680/assignment2/month-oct-001.html\n",
      "Scrapping http://mlg.ucd.ie/modules/COMP41680/assignment2/month-nov-001.html\n",
      "Scrapping http://mlg.ucd.ie/modules/COMP41680/assignment2/month-dec-001.html\n"
     ]
    }
   ],
   "source": [
    "# Requesting & Parsing the Data\n",
    "base_url = \"http://mlg.ucd.ie/modules/COMP41680/assignment2/\"\n",
    "soup = BeautifulSoup(requests.get(base_url + \"index.html\").content, \"html.parser\")\n",
    "#print(soup.prettify())\n",
    "\n",
    "# Creating list of all 3 featres we need to extract\n",
    "title_news = []\n",
    "category_news = []\n",
    "snippet_news = []\n",
    "\n",
    "for a in soup.select(\"#all a\"):\n",
    "    next_link = a[\"href\"]\n",
    "   \n",
    "    print(\"Scrapping\", base_url + next_link)\n",
    "\n",
    "    while True:\n",
    "        soup = BeautifulSoup(requests.get(base_url + next_link).content, \"html.parser\")\n",
    "        \n",
    "       \n",
    "        news_div = soup.find_all('div', class_ = 'article')\n",
    "                   \n",
    "        for container in news_div:\n",
    "            \n",
    "# Categpry Extraction\n",
    "        # Data we need to find is in a <span> tag with a class of <metadata'\n",
    "            category = container.select(\"p\")[1].text.split(' ', 1)[1]   \n",
    "            if category == 'UK-News' or category == 'US-News' or category =='Politics':\n",
    "                category_news.append(category)\n",
    "\n",
    "# Title Extrction\n",
    "        # The title of news are located under <h5> <a\n",
    "                title = container.h5.a.text # inside the news_div grab the text of a tag\n",
    "                title_news.append(title)\n",
    "            \n",
    "# snippet Extrction\n",
    "                snippet = container.select_one('p.snippet').text\n",
    "                snippet_news.append(snippet)\n",
    "  \n",
    "        next_link = soup.select_one('a[aria-label=\"Next\"]')[\"href\"]      \n",
    "    \n",
    "        if next_link == \"#\":\n",
    "            break"
   ]
  },
  {
   "cell_type": "markdown",
   "id": "recognized-bible",
   "metadata": {},
   "source": [
    "## 3-1: Data Storage"
   ]
  },
  {
   "cell_type": "markdown",
   "id": "fabulous-example",
   "metadata": {},
   "source": [
    "In this section, I store the collected data in DataFrame format. "
   ]
  },
  {
   "cell_type": "code",
   "execution_count": 3,
   "id": "accessible-bunny",
   "metadata": {},
   "outputs": [
    {
     "data": {
      "text/plain": [
       "'utf-8'"
      ]
     },
     "execution_count": 3,
     "metadata": {},
     "output_type": "execute_result"
    }
   ],
   "source": [
    "sys.getfilesystemencoding()"
   ]
  },
  {
   "cell_type": "code",
   "execution_count": 4,
   "id": "right-extension",
   "metadata": {},
   "outputs": [],
   "source": [
    "news = pd.DataFrame(\n",
    "{\n",
    "    'Titles' : title_news,\n",
    "    'Snippet' : snippet_news,\n",
    "    'Label' : category_news,\n",
    "})\n",
    "news.to_csv('newsdata.csv', index = False, encoding = 'utf-8-sig')"
   ]
  },
  {
   "cell_type": "markdown",
   "id": "crazy-cooler",
   "metadata": {},
   "source": [
    "# Task 2: Binary Classification"
   ]
  },
  {
   "cell_type": "code",
   "execution_count": 345,
   "id": "artificial-handling",
   "metadata": {},
   "outputs": [],
   "source": [
    "# Importing all required libraries\n",
    "\n",
    "# Count Vectorization\n",
    "from sklearn.feature_extraction.text import CountVectorizer \n",
    "from sklearn.metrics.pairwise import cosine_similarity\n",
    "from nltk.stem import WordNetLemmatizer\n",
    "# Calculating TFIDF\n",
    "from sklearn.feature_extraction.text import TfidfVectorizer\n",
    "from sklearn.feature_extraction.text import TfidfTransformer\n",
    "# Visualization Packages\n",
    "import matplotlib.pyplot as plt\n",
    "import seaborn as sns\n",
    "%matplotlib inline\n",
    "\n",
    "import string\n",
    "\n",
    "# Removing Stop Words, stemmer and word tokenizer\n",
    "import nltk\n",
    "\n",
    "from nltk.corpus import stopwords\n",
    "from nltk.stem import PorterStemmer\n",
    "from nltk.tokenize import word_tokenize\n",
    "\n",
    "#Modes\n",
    "from sklearn.ensemble import RandomForestClassifier\n",
    "from sklearn.neighbors import KNeighborsClassifier\n",
    "from sklearn.linear_model import LogisticRegression\n",
    "from sklearn.svm import SVC\n",
    "\n",
    "# Model Evaluators\n",
    "from sklearn.model_selection import train_test_split, cross_val_score\n",
    "from sklearn.model_selection import RandomizedSearchCV, GridSearchCV\n",
    "from sklearn.metrics import confusion_matrix, classification_report\n",
    "from sklearn.metrics import precision_score, recall_score, f1_score\n",
    "from sklearn.metrics import plot_roc_curve\n",
    "from sklearn import metrics"
   ]
  },
  {
   "cell_type": "code",
   "execution_count": 6,
   "id": "tender-fabric",
   "metadata": {},
   "outputs": [],
   "source": [
    "# downloading stop words\n",
    "#nltk.download_shell()\n",
    "# download NLT (tokenizer)\n",
    "#nltk.download('punkt')"
   ]
  },
  {
   "cell_type": "markdown",
   "id": "characteristic-blackberry",
   "metadata": {},
   "source": [
    "## <font color='green'> i. Data Preperation & Visualisation</font>"
   ]
  },
  {
   "cell_type": "markdown",
   "id": "skilled-saturday",
   "metadata": {},
   "source": [
    "## 1-2: Coding and Testing"
   ]
  },
  {
   "cell_type": "markdown",
   "id": "interested-priest",
   "metadata": {},
   "source": [
    "### 1-2-1:Reading the Scrape Data"
   ]
  },
  {
   "cell_type": "code",
   "execution_count": 7,
   "id": "unavailable-tracy",
   "metadata": {},
   "outputs": [],
   "source": [
    "news_df = pd.read_csv('newsdata.csv')"
   ]
  },
  {
   "cell_type": "code",
   "execution_count": 8,
   "id": "alone-showcase",
   "metadata": {},
   "outputs": [
    {
     "data": {
      "text/html": [
       "<div>\n",
       "<style scoped>\n",
       "    .dataframe tbody tr th:only-of-type {\n",
       "        vertical-align: middle;\n",
       "    }\n",
       "\n",
       "    .dataframe tbody tr th {\n",
       "        vertical-align: top;\n",
       "    }\n",
       "\n",
       "    .dataframe thead th {\n",
       "        text-align: right;\n",
       "    }\n",
       "</style>\n",
       "<table border=\"1\" class=\"dataframe\">\n",
       "  <thead>\n",
       "    <tr style=\"text-align: right;\">\n",
       "      <th></th>\n",
       "      <th>Titles</th>\n",
       "      <th>Snippet</th>\n",
       "      <th>Label</th>\n",
       "    </tr>\n",
       "  </thead>\n",
       "  <tbody>\n",
       "    <tr>\n",
       "      <th>0</th>\n",
       "      <td>Let's resolve to reconnect, says Welby in new ...</td>\n",
       "      <td>The archbishop of Canterbury will urge people ...</td>\n",
       "      <td>UK-News</td>\n",
       "    </tr>\n",
       "    <tr>\n",
       "      <th>1</th>\n",
       "      <td>The final sprint: will any of the Democratic c...</td>\n",
       "      <td>Democrats overwhelmingly agree that their top ...</td>\n",
       "      <td>US-News</td>\n",
       "    </tr>\n",
       "    <tr>\n",
       "      <th>2</th>\n",
       "      <td>Clive Lewis calls for unity among Labour leade...</td>\n",
       "      <td>Summary: The Labour leadership hopeful Clive L...</td>\n",
       "      <td>Politics</td>\n",
       "    </tr>\n",
       "    <tr>\n",
       "      <th>3</th>\n",
       "      <td>Visa applications: Home Office refuses to reve...</td>\n",
       "      <td>Summary: Campaign groups have criticised the H...</td>\n",
       "      <td>UK-News</td>\n",
       "    </tr>\n",
       "    <tr>\n",
       "      <th>4</th>\n",
       "      <td>Victims of NYE Surrey road crash were BA cabin...</td>\n",
       "      <td>At least seven people have been killed across ...</td>\n",
       "      <td>UK-News</td>\n",
       "    </tr>\n",
       "  </tbody>\n",
       "</table>\n",
       "</div>"
      ],
      "text/plain": [
       "                                              Titles  \\\n",
       "0  Let's resolve to reconnect, says Welby in new ...   \n",
       "1  The final sprint: will any of the Democratic c...   \n",
       "2  Clive Lewis calls for unity among Labour leade...   \n",
       "3  Visa applications: Home Office refuses to reve...   \n",
       "4  Victims of NYE Surrey road crash were BA cabin...   \n",
       "\n",
       "                                             Snippet     Label  \n",
       "0  The archbishop of Canterbury will urge people ...   UK-News  \n",
       "1  Democrats overwhelmingly agree that their top ...   US-News  \n",
       "2  Summary: The Labour leadership hopeful Clive L...  Politics  \n",
       "3  Summary: Campaign groups have criticised the H...   UK-News  \n",
       "4  At least seven people have been killed across ...   UK-News  "
      ]
     },
     "execution_count": 8,
     "metadata": {},
     "output_type": "execute_result"
    }
   ],
   "source": [
    "news_df.head()"
   ]
  },
  {
   "cell_type": "markdown",
   "id": "according-connection",
   "metadata": {},
   "source": [
    "### 1-2-2: Exploring Dataset"
   ]
  },
  {
   "cell_type": "markdown",
   "id": "unsigned-turkish",
   "metadata": {},
   "source": [
    "- **Describing News Dataset:**"
   ]
  },
  {
   "cell_type": "markdown",
   "id": "buried-soccer",
   "metadata": {},
   "source": [
    "In this section, we aimed to explore our dataset. We have 3 labels, and the number of unique news is eual to count which means that we have not extracted duplicated news and we have 5,418 news."
   ]
  },
  {
   "cell_type": "code",
   "execution_count": 9,
   "id": "motivated-canada",
   "metadata": {},
   "outputs": [
    {
     "data": {
      "text/html": [
       "<div>\n",
       "<style scoped>\n",
       "    .dataframe tbody tr th:only-of-type {\n",
       "        vertical-align: middle;\n",
       "    }\n",
       "\n",
       "    .dataframe tbody tr th {\n",
       "        vertical-align: top;\n",
       "    }\n",
       "\n",
       "    .dataframe thead th {\n",
       "        text-align: right;\n",
       "    }\n",
       "</style>\n",
       "<table border=\"1\" class=\"dataframe\">\n",
       "  <thead>\n",
       "    <tr style=\"text-align: right;\">\n",
       "      <th></th>\n",
       "      <th>Titles</th>\n",
       "      <th>Snippet</th>\n",
       "      <th>Label</th>\n",
       "    </tr>\n",
       "  </thead>\n",
       "  <tbody>\n",
       "    <tr>\n",
       "      <th>count</th>\n",
       "      <td>5418</td>\n",
       "      <td>5418</td>\n",
       "      <td>5418</td>\n",
       "    </tr>\n",
       "    <tr>\n",
       "      <th>unique</th>\n",
       "      <td>5418</td>\n",
       "      <td>5416</td>\n",
       "      <td>3</td>\n",
       "    </tr>\n",
       "    <tr>\n",
       "      <th>top</th>\n",
       "      <td>Geoffrey Cox signals he would accept lead role...</td>\n",
       "      <td>Boris Johnson is asking the EU for a Canada-st...</td>\n",
       "      <td>US-News</td>\n",
       "    </tr>\n",
       "    <tr>\n",
       "      <th>freq</th>\n",
       "      <td>1</td>\n",
       "      <td>2</td>\n",
       "      <td>1815</td>\n",
       "    </tr>\n",
       "  </tbody>\n",
       "</table>\n",
       "</div>"
      ],
      "text/plain": [
       "                                                   Titles  \\\n",
       "count                                                5418   \n",
       "unique                                               5418   \n",
       "top     Geoffrey Cox signals he would accept lead role...   \n",
       "freq                                                    1   \n",
       "\n",
       "                                                  Snippet    Label  \n",
       "count                                                5418     5418  \n",
       "unique                                               5416        3  \n",
       "top     Boris Johnson is asking the EU for a Canada-st...  US-News  \n",
       "freq                                                    2     1815  "
      ]
     },
     "execution_count": 9,
     "metadata": {},
     "output_type": "execute_result"
    }
   ],
   "source": [
    "news_df.describe()"
   ]
  },
  {
   "cell_type": "markdown",
   "id": "comic-ratio",
   "metadata": {},
   "source": [
    "Then, all the news articles are grouped by the news categories (labels) to see how many news we have scrapped for Politics, UK & US news. US news had more titles comparing to the other labels. In the top column, more important message has been displayed, and seems Donald Trump related news is famous in US."
   ]
  },
  {
   "cell_type": "code",
   "execution_count": 10,
   "id": "verbal-electron",
   "metadata": {},
   "outputs": [
    {
     "data": {
      "text/html": [
       "<div>\n",
       "<style scoped>\n",
       "    .dataframe tbody tr th:only-of-type {\n",
       "        vertical-align: middle;\n",
       "    }\n",
       "\n",
       "    .dataframe tbody tr th {\n",
       "        vertical-align: top;\n",
       "    }\n",
       "\n",
       "    .dataframe thead tr th {\n",
       "        text-align: left;\n",
       "    }\n",
       "\n",
       "    .dataframe thead tr:last-of-type th {\n",
       "        text-align: right;\n",
       "    }\n",
       "</style>\n",
       "<table border=\"1\" class=\"dataframe\">\n",
       "  <thead>\n",
       "    <tr>\n",
       "      <th></th>\n",
       "      <th colspan=\"4\" halign=\"left\">Titles</th>\n",
       "      <th colspan=\"4\" halign=\"left\">Snippet</th>\n",
       "    </tr>\n",
       "    <tr>\n",
       "      <th></th>\n",
       "      <th>count</th>\n",
       "      <th>unique</th>\n",
       "      <th>top</th>\n",
       "      <th>freq</th>\n",
       "      <th>count</th>\n",
       "      <th>unique</th>\n",
       "      <th>top</th>\n",
       "      <th>freq</th>\n",
       "    </tr>\n",
       "    <tr>\n",
       "      <th>Label</th>\n",
       "      <th></th>\n",
       "      <th></th>\n",
       "      <th></th>\n",
       "      <th></th>\n",
       "      <th></th>\n",
       "      <th></th>\n",
       "      <th></th>\n",
       "      <th></th>\n",
       "    </tr>\n",
       "  </thead>\n",
       "  <tbody>\n",
       "    <tr>\n",
       "      <th>Politics</th>\n",
       "      <td>1808</td>\n",
       "      <td>1808</td>\n",
       "      <td>Geoffrey Cox signals he would accept lead role...</td>\n",
       "      <td>1</td>\n",
       "      <td>1808</td>\n",
       "      <td>1806</td>\n",
       "      <td>Boris Johnson is asking the EU for a Canada-st...</td>\n",
       "      <td>2</td>\n",
       "    </tr>\n",
       "    <tr>\n",
       "      <th>UK-News</th>\n",
       "      <td>1795</td>\n",
       "      <td>1795</td>\n",
       "      <td>Coronavirus: hunting exempt from 'rule of six'...</td>\n",
       "      <td>1</td>\n",
       "      <td>1795</td>\n",
       "      <td>1795</td>\n",
       "      <td>Summary: Just over 17% of racially aggravated ...</td>\n",
       "      <td>1</td>\n",
       "    </tr>\n",
       "    <tr>\n",
       "      <th>US-News</th>\n",
       "      <td>1815</td>\n",
       "      <td>1815</td>\n",
       "      <td>Tulsi Gabbard quits 2020 Democratic presidenti...</td>\n",
       "      <td>1</td>\n",
       "      <td>1815</td>\n",
       "      <td>1815</td>\n",
       "      <td>While the world’s attention is on Donald Trump...</td>\n",
       "      <td>1</td>\n",
       "    </tr>\n",
       "  </tbody>\n",
       "</table>\n",
       "</div>"
      ],
      "text/plain": [
       "         Titles                                                            \\\n",
       "          count unique                                                top   \n",
       "Label                                                                       \n",
       "Politics   1808   1808  Geoffrey Cox signals he would accept lead role...   \n",
       "UK-News    1795   1795  Coronavirus: hunting exempt from 'rule of six'...   \n",
       "US-News    1815   1815  Tulsi Gabbard quits 2020 Democratic presidenti...   \n",
       "\n",
       "              Snippet         \\\n",
       "         freq   count unique   \n",
       "Label                          \n",
       "Politics    1    1808   1806   \n",
       "UK-News     1    1795   1795   \n",
       "US-News     1    1815   1815   \n",
       "\n",
       "                                                                  \n",
       "                                                        top freq  \n",
       "Label                                                             \n",
       "Politics  Boris Johnson is asking the EU for a Canada-st...    2  \n",
       "UK-News   Summary: Just over 17% of racially aggravated ...    1  \n",
       "US-News   While the world’s attention is on Donald Trump...    1  "
      ]
     },
     "execution_count": 10,
     "metadata": {},
     "output_type": "execute_result"
    }
   ],
   "source": [
    "news_df.groupby('Label').describe()"
   ]
  },
  {
   "cell_type": "markdown",
   "id": "hungry-interpretation",
   "metadata": {},
   "source": [
    "- **Adding New Features:**"
   ]
  },
  {
   "cell_type": "markdown",
   "id": "attended-calgary",
   "metadata": {},
   "source": [
    "Two columns added to figure out the lenght of titles & Snippet"
   ]
  },
  {
   "cell_type": "code",
   "execution_count": 11,
   "id": "better-morgan",
   "metadata": {},
   "outputs": [],
   "source": [
    "news_df['Lenght_Titles'] = news_df['Titles'].apply(len)\n",
    "news_df['Lenght_Snippest'] = news_df['Snippet'].apply(len)"
   ]
  },
  {
   "cell_type": "code",
   "execution_count": 12,
   "id": "dedicated-french",
   "metadata": {},
   "outputs": [
    {
     "data": {
      "text/html": [
       "<div>\n",
       "<style scoped>\n",
       "    .dataframe tbody tr th:only-of-type {\n",
       "        vertical-align: middle;\n",
       "    }\n",
       "\n",
       "    .dataframe tbody tr th {\n",
       "        vertical-align: top;\n",
       "    }\n",
       "\n",
       "    .dataframe thead th {\n",
       "        text-align: right;\n",
       "    }\n",
       "</style>\n",
       "<table border=\"1\" class=\"dataframe\">\n",
       "  <thead>\n",
       "    <tr style=\"text-align: right;\">\n",
       "      <th></th>\n",
       "      <th>Titles</th>\n",
       "      <th>Snippet</th>\n",
       "      <th>Label</th>\n",
       "      <th>Lenght_Titles</th>\n",
       "      <th>Lenght_Snippest</th>\n",
       "    </tr>\n",
       "  </thead>\n",
       "  <tbody>\n",
       "    <tr>\n",
       "      <th>0</th>\n",
       "      <td>Let's resolve to reconnect, says Welby in new ...</td>\n",
       "      <td>The archbishop of Canterbury will urge people ...</td>\n",
       "      <td>UK-News</td>\n",
       "      <td>58</td>\n",
       "      <td>151</td>\n",
       "    </tr>\n",
       "    <tr>\n",
       "      <th>1</th>\n",
       "      <td>The final sprint: will any of the Democratic c...</td>\n",
       "      <td>Democrats overwhelmingly agree that their top ...</td>\n",
       "      <td>US-News</td>\n",
       "      <td>70</td>\n",
       "      <td>152</td>\n",
       "    </tr>\n",
       "    <tr>\n",
       "      <th>2</th>\n",
       "      <td>Clive Lewis calls for unity among Labour leade...</td>\n",
       "      <td>Summary: The Labour leadership hopeful Clive L...</td>\n",
       "      <td>Politics</td>\n",
       "      <td>60</td>\n",
       "      <td>161</td>\n",
       "    </tr>\n",
       "    <tr>\n",
       "      <th>3</th>\n",
       "      <td>Visa applications: Home Office refuses to reve...</td>\n",
       "      <td>Summary: Campaign groups have criticised the H...</td>\n",
       "      <td>UK-News</td>\n",
       "      <td>70</td>\n",
       "      <td>161</td>\n",
       "    </tr>\n",
       "    <tr>\n",
       "      <th>4</th>\n",
       "      <td>Victims of NYE Surrey road crash were BA cabin...</td>\n",
       "      <td>At least seven people have been killed across ...</td>\n",
       "      <td>UK-News</td>\n",
       "      <td>51</td>\n",
       "      <td>152</td>\n",
       "    </tr>\n",
       "  </tbody>\n",
       "</table>\n",
       "</div>"
      ],
      "text/plain": [
       "                                              Titles  \\\n",
       "0  Let's resolve to reconnect, says Welby in new ...   \n",
       "1  The final sprint: will any of the Democratic c...   \n",
       "2  Clive Lewis calls for unity among Labour leade...   \n",
       "3  Visa applications: Home Office refuses to reve...   \n",
       "4  Victims of NYE Surrey road crash were BA cabin...   \n",
       "\n",
       "                                             Snippet     Label  Lenght_Titles  \\\n",
       "0  The archbishop of Canterbury will urge people ...   UK-News             58   \n",
       "1  Democrats overwhelmingly agree that their top ...   US-News             70   \n",
       "2  Summary: The Labour leadership hopeful Clive L...  Politics             60   \n",
       "3  Summary: Campaign groups have criticised the H...   UK-News             70   \n",
       "4  At least seven people have been killed across ...   UK-News             51   \n",
       "\n",
       "   Lenght_Snippest  \n",
       "0              151  \n",
       "1              152  \n",
       "2              161  \n",
       "3              161  \n",
       "4              152  "
      ]
     },
     "execution_count": 12,
     "metadata": {},
     "output_type": "execute_result"
    }
   ],
   "source": [
    "news_df.head()"
   ]
  },
  {
   "cell_type": "markdown",
   "id": "approved-convergence",
   "metadata": {},
   "source": [
    "- **Visualisation:**"
   ]
  },
  {
   "cell_type": "code",
   "execution_count": 13,
   "id": "documentary-height",
   "metadata": {},
   "outputs": [
    {
     "data": {
      "text/plain": [
       "count    5418.000000\n",
       "mean       68.884828\n",
       "std        13.298813\n",
       "min        17.000000\n",
       "25%        62.000000\n",
       "50%        68.000000\n",
       "75%        75.000000\n",
       "max       134.000000\n",
       "Name: Lenght_Titles, dtype: float64"
      ]
     },
     "execution_count": 13,
     "metadata": {},
     "output_type": "execute_result"
    }
   ],
   "source": [
    "news_df['Lenght_Titles'].describe()"
   ]
  },
  {
   "cell_type": "code",
   "execution_count": 14,
   "id": "considerable-blink",
   "metadata": {},
   "outputs": [
    {
     "data": {
      "image/png": "[encoded data removed]",
      "text/plain": [
       "<Figure size 432x288 with 1 Axes>"
      ]
     },
     "metadata": {
      "needs_background": "light"
     },
     "output_type": "display_data"
    }
   ],
   "source": [
    "news_df['Lenght_Titles'].plot.hist(bins=20); # lenght of titles are following 'Normal Distribution'"
   ]
  },
  {
   "cell_type": "code",
   "execution_count": 15,
   "id": "supposed-perspective",
   "metadata": {},
   "outputs": [
    {
     "data": {
      "text/plain": [
       "count    5418.000000\n",
       "mean      153.525102\n",
       "std         3.536019\n",
       "min       151.000000\n",
       "25%       152.000000\n",
       "50%       152.000000\n",
       "75%       152.000000\n",
       "max       161.000000\n",
       "Name: Lenght_Snippest, dtype: float64"
      ]
     },
     "execution_count": 15,
     "metadata": {},
     "output_type": "execute_result"
    }
   ],
   "source": [
    "news_df['Lenght_Snippest'].describe()"
   ]
  },
  {
   "cell_type": "code",
   "execution_count": 16,
   "id": "experienced-motel",
   "metadata": {},
   "outputs": [
    {
     "data": {
      "image/png": "[encoded data removed]",
      "text/plain": [
       "<Figure size 432x288 with 1 Axes>"
      ]
     },
     "metadata": {
      "needs_background": "light"
     },
     "output_type": "display_data"
    }
   ],
   "source": [
    "news_df['Lenght_Snippest'].plot.hist(bins=20);"
   ]
  },
  {
   "cell_type": "markdown",
   "id": "together-novelty",
   "metadata": {},
   "source": [
    "For both the snippest + titles, the longest lenght news are displayed as textstabels:\n",
    "UK COVID-19 news had the longeest title news"
   ]
  },
  {
   "cell_type": "code",
   "execution_count": 17,
   "id": "beneficial-juice",
   "metadata": {},
   "outputs": [
    {
     "data": {
      "text/plain": [
       "'UK coronavirus: Grant Shapps denies chief nurse dropped from No 10 briefing ‘after refusing to back Dominic Cummings’ — as it happened'"
      ]
     },
     "execution_count": 17,
     "metadata": {},
     "output_type": "execute_result"
    }
   ],
   "source": [
    "news_df[news_df['Lenght_Titles'] == 134] ['Titles'].iloc[0] # Printing out the entire string"
   ]
  },
  {
   "cell_type": "code",
   "execution_count": 18,
   "id": "christian-placement",
   "metadata": {},
   "outputs": [
    {
     "data": {
      "text/plain": [
       "2       Summary: The Labour leadership hopeful Clive L...\n",
       "3       Summary: Campaign groups have criticised the H...\n",
       "19      Summary: Sir Keir Starmer, the favourite to su...\n",
       "24      Summary: A series of high temperature records ...\n",
       "36      Summary: A former Fox News reporter has added ...\n",
       "                              ...                        \n",
       "5393    Summary: Diana, Princess of Wales, dismissed c...\n",
       "5399    Summary: Who would have guessed? When push cam...\n",
       "5401    Summary: Most of the sprawling industrial esta...\n",
       "5410    Summary: Boris Johnson’s father Stanley has co...\n",
       "5413    Summary: Joe Biden is expected to receive Secr...\n",
       "Name: Snippet, Length: 854, dtype: object"
      ]
     },
     "execution_count": 18,
     "metadata": {},
     "output_type": "execute_result"
    }
   ],
   "source": [
    "news_df [news_df['Lenght_Snippest'] == 161]['Snippet']"
   ]
  },
  {
   "cell_type": "markdown",
   "id": "partial-theorem",
   "metadata": {},
   "source": [
    "For having a better understanding of the lenght of news for all of the 3 categories, we show lenght of titles & Lenght of snippest on X Axis and seprated them by Politics, UK and US news.\n",
    "A normal distribution histogram trend observed for all of the 3 labels, and it seems that US-News using titles with more description comparing to the other labels. It seems that lenght feature is not good feature for distinguishing different news types, since all of them are almost in the same range"
   ]
  },
  {
   "cell_type": "code",
   "execution_count": 19,
   "id": "otherwise-pricing",
   "metadata": {},
   "outputs": [
    {
     "name": "stderr",
     "output_type": "stream",
     "text": [
      "C:\\Users\\Negee\\New folder\\envs\\geo_env\\lib\\site-packages\\pandas\\plotting\\_matplotlib\\tools.py:400: MatplotlibDeprecationWarning: \n",
      "The is_first_col function was deprecated in Matplotlib 3.4 and will be removed two minor releases later. Use ax.get_subplotspec().is_first_col() instead.\n",
      "  if ax.is_first_col():\n"
     ]
    },
    {
     "data": {
      "image/png": "[encoded data removed]",
      "text/plain": [
       "<Figure size 1008x360 with 4 Axes>"
      ]
     },
     "metadata": {
      "needs_background": "light"
     },
     "output_type": "display_data"
    }
   ],
   "source": [
    "news_df.hist(column ='Lenght_Titles', by = 'Label', bins = 20, figsize = (14,5));"
   ]
  },
  {
   "cell_type": "code",
   "execution_count": 20,
   "id": "sealed-modification",
   "metadata": {},
   "outputs": [
    {
     "data": {
      "image/png": "[encoded data removed]",
      "text/plain": [
       "<Figure size 1008x360 with 4 Axes>"
      ]
     },
     "metadata": {
      "needs_background": "light"
     },
     "output_type": "display_data"
    }
   ],
   "source": [
    "news_df.hist(column = 'Lenght_Snippest', by = 'Label', bins = 20, figsize = (14,5));"
   ]
  },
  {
   "cell_type": "markdown",
   "id": "scenic-release",
   "metadata": {},
   "source": [
    "**Counting Number of News articles in each Labels**"
   ]
  },
  {
   "cell_type": "code",
   "execution_count": 21,
   "id": "characteristic-database",
   "metadata": {},
   "outputs": [
    {
     "name": "stdout",
     "output_type": "stream",
     "text": [
      "Number_of_US_News: 1815 \n",
      "Number_of_Politics: 1808\n",
      "Number_of_UK_News: 1795\n",
      "\n"
     ]
    }
   ],
   "source": [
    "number_of_US_News = news_df.Label.value_counts()[0]\n",
    "number_of_Politics = news_df.Label.value_counts()[1]\n",
    "number_of_UK_News  = news_df.Label.value_counts()[2]\n",
    "print('Number_of_US_News: %s \\nNumber_of_Politics: %s\\nNumber_of_UK_News: %s\\n'%(number_of_US_News,number_of_Politics,number_of_UK_News))"
   ]
  },
  {
   "cell_type": "code",
   "execution_count": 22,
   "id": "returning-wednesday",
   "metadata": {},
   "outputs": [
    {
     "data": {
      "image/png": "[encoded data removed]",
      "text/plain": [
       "<Figure size 454x454 with 1 Axes>"
      ]
     },
     "metadata": {},
     "output_type": "display_data"
    }
   ],
   "source": [
    "# Drawing pie chart of lengh news category and their labels\n",
    "\n",
    "plt.figure(figsize = (2,2) , dpi = 227) # Seeting fig size and dpi\n",
    "plt.rcParams['text.color'] = 'black'\n",
    "# flatuicolors used for chosing colors(https://flatuicolors.com/)\n",
    "pie_color = ['#ffeaa7','#00cec9','#00b894']\n",
    "plt.title('Porpotion of Each News Category', fontsize = 5)\n",
    "plt.pie([number_of_US_News,number_of_Politics,number_of_UK_News] ,labels= ['US_News', 'Politics', 'UK_News'], textprops = {'fontsize': 5}, autopct='%1.1f%%',\n",
    "         startangle= 90, colors = pie_color, pctdistance = 0.8, explode = [0.1,0.1,0.1]) # addig percent inside: autopct, rotating angle: startangle seprating pies : explode\n",
    "# draw circle\n",
    "centre_circle = plt.Circle((0,0), radius = 0.6, fc = 'white') # changing color whitte for midle circle\n",
    "plt.gca().add_artist(centre_circle ) # adding circle to current axis\n",
    "plt.show()"
   ]
  },
  {
   "cell_type": "markdown",
   "id": "disciplinary-spray",
   "metadata": {},
   "source": [
    "**Load the data from Task 1**"
   ]
  },
  {
   "cell_type": "markdown",
   "id": "dedicated-brooks",
   "metadata": {},
   "source": [
    "\n",
    "- **Corpus** : A large unstructured set of news articles (The collected Data) ---> **Document**: It refers to particular news title+Snippet  in our news courpse.\n",
    "- Here, the main **aim** is to change this set of documents  (Corpuse) to particilar item (document) in our news corpus."
   ]
  },
  {
   "cell_type": "markdown",
   "id": "cubic-objective",
   "metadata": {},
   "source": [
    "### Concanication Titles + Snippet"
   ]
  },
  {
   "cell_type": "code",
   "execution_count": 23,
   "id": "increasing-supplement",
   "metadata": {},
   "outputs": [],
   "source": [
    "#  concatenation of the story’s title and text snippet\n",
    "news_df ['Full_News'] = news_df['Titles'] + ' ' + news_df['Snippet']"
   ]
  },
  {
   "cell_type": "code",
   "execution_count": 24,
   "id": "lucky-proxy",
   "metadata": {},
   "outputs": [
    {
     "data": {
      "text/plain": [
       "\"Let's resolve to reconnect, says Welby in new year message The archbishop of Canterbury will urge people to make personal connections with others in 2020 to create a new unity in a divided society. In his new …\""
      ]
     },
     "metadata": {},
     "output_type": "display_data"
    }
   ],
   "source": [
    "# Checking if it concanicated properly\n",
    "with pd.option_context('display.max_colwidth', None):\n",
    "  display(news_df ['Full_News'][0])"
   ]
  },
  {
   "cell_type": "code",
   "execution_count": 25,
   "id": "fundamental-ability",
   "metadata": {},
   "outputs": [
    {
     "data": {
      "text/html": [
       "<div>\n",
       "<style scoped>\n",
       "    .dataframe tbody tr th:only-of-type {\n",
       "        vertical-align: middle;\n",
       "    }\n",
       "\n",
       "    .dataframe tbody tr th {\n",
       "        vertical-align: top;\n",
       "    }\n",
       "\n",
       "    .dataframe thead th {\n",
       "        text-align: right;\n",
       "    }\n",
       "</style>\n",
       "<table border=\"1\" class=\"dataframe\">\n",
       "  <thead>\n",
       "    <tr style=\"text-align: right;\">\n",
       "      <th></th>\n",
       "      <th>Label</th>\n",
       "      <th>Full_News</th>\n",
       "    </tr>\n",
       "  </thead>\n",
       "  <tbody>\n",
       "    <tr>\n",
       "      <th>0</th>\n",
       "      <td>UK-News</td>\n",
       "      <td>Let's resolve to reconnect, says Welby in new ...</td>\n",
       "    </tr>\n",
       "    <tr>\n",
       "      <th>1</th>\n",
       "      <td>US-News</td>\n",
       "      <td>The final sprint: will any of the Democratic c...</td>\n",
       "    </tr>\n",
       "    <tr>\n",
       "      <th>2</th>\n",
       "      <td>Politics</td>\n",
       "      <td>Clive Lewis calls for unity among Labour leade...</td>\n",
       "    </tr>\n",
       "  </tbody>\n",
       "</table>\n",
       "</div>"
      ],
      "text/plain": [
       "      Label                                          Full_News\n",
       "0   UK-News  Let's resolve to reconnect, says Welby in new ...\n",
       "1   US-News  The final sprint: will any of the Democratic c...\n",
       "2  Politics  Clive Lewis calls for unity among Labour leade..."
      ]
     },
     "execution_count": 25,
     "metadata": {},
     "output_type": "execute_result"
    }
   ],
   "source": [
    "# Dropping unnecessary columns & adding news id\n",
    "concat_data = news_df.drop(['Titles', 'Snippet', 'Lenght_Titles', 'Lenght_Snippest'], axis=1)\n",
    "concat_data.head(3)"
   ]
  },
  {
   "cell_type": "markdown",
   "id": "dependent-sampling",
   "metadata": {},
   "source": [
    "### Data Cleaning:"
   ]
  },
  {
   "cell_type": "markdown",
   "id": "sacred-probe",
   "metadata": {},
   "source": [
    "Based on the below two lines of codes, our news article dataset is clean and it doesnot requires any cleaning procedures for empty and NA values"
   ]
  },
  {
   "cell_type": "code",
   "execution_count": 26,
   "id": "unsigned-accent",
   "metadata": {},
   "outputs": [
    {
     "data": {
      "text/plain": [
       "False"
      ]
     },
     "execution_count": 26,
     "metadata": {},
     "output_type": "execute_result"
    }
   ],
   "source": [
    "# Checking if the data contains the Null Values\n",
    "concat_data.isna().values.any()"
   ]
  },
  {
   "cell_type": "code",
   "execution_count": 27,
   "id": "modern-canyon",
   "metadata": {},
   "outputs": [
    {
     "data": {
      "text/plain": [
       "False"
      ]
     },
     "execution_count": 27,
     "metadata": {},
     "output_type": "execute_result"
    }
   ],
   "source": [
    "# Checking if we have empty full news strings\n",
    "# In above line of code, we only checked the NA values, while\n",
    "# Here we want to check ' '  empty strings\n",
    "(concat_data['Full_News'].str.len() == 0).any()"
   ]
  },
  {
   "cell_type": "code",
   "execution_count": 28,
   "id": "structured-colon",
   "metadata": {},
   "outputs": [],
   "source": [
    "# Save full-news data in JSON format\n",
    "concat_data.to_json( 'Full_Article_News.json')"
   ]
  },
  {
   "cell_type": "markdown",
   "id": "relevant-musical",
   "metadata": {},
   "source": [
    "# i. Natural Language Processing"
   ]
  },
  {
   "cell_type": "markdown",
   "id": "minute-circular",
   "metadata": {},
   "source": [
    "## 2-2 : Text Pre-Processing "
   ]
  },
  {
   "cell_type": "markdown",
   "id": "exempt-skiing",
   "metadata": {},
   "source": [
    "### 2-2-1: Tokenization"
   ]
  },
  {
   "cell_type": "markdown",
   "id": "together-poland",
   "metadata": {},
   "source": [
    "In this regard, we changed a sequence of text in news to sequence of numbers.         **Tokenizing Text:** \n",
    " - Raw text --> Individual tokens\n",
    " - Before creating of document term matrix, several steps including Case Conversion, Minimum term lenght, Stemming, lemmatisation, stop_word filtering and low frequency term filtering applied to reduce number of terms."
   ]
  },
  {
   "cell_type": "code",
   "execution_count": 29,
   "id": "failing-participant",
   "metadata": {},
   "outputs": [],
   "source": [
    "def news_reduction (news):\n",
    "    '''\n",
    "    1- Convert News to LowerCase Text\n",
    "    2- Split up the text news\n",
    "    3- Remove StopWords\n",
    "    4- Remove Punctuation\n",
    "    5- Stem the News words\n",
    "    '''\n",
    "    ## Tokenizing news article & Then changing to lower case text\n",
    "    words = word_tokenize(news.lower())\n",
    "    # Store all word in News Articles in a List                    \n",
    "    filtered_words = []\n",
    "    \n",
    "    for word in words:\n",
    "        # If news word in not included in stopword + punctuation\n",
    "        if word not in set(stopwords.words ('english')) and word.isalpha():\n",
    "                         \n",
    "             # Stem the word\n",
    "            filtered_words.append(PorterStemmer().stem(word))   \n",
    "                         \n",
    "    return filtered_words            "
   ]
  },
  {
   "cell_type": "markdown",
   "id": "descending-mobility",
   "metadata": {},
   "source": [
    "### Vocabularies Exist in News Articles"
   ]
  },
  {
   "cell_type": "code",
   "execution_count": 30,
   "id": "afraid-yorkshire",
   "metadata": {},
   "outputs": [
    {
     "name": "stdout",
     "output_type": "stream",
     "text": [
      "Wall time: 7min 58s\n"
     ]
    }
   ],
   "source": [
    "%%time \n",
    "# Apply the news reduction function to 'Full_News' Column \n",
    "news_list = concat_data.Full_News.apply(news_reduction)\n",
    "# new_list is a nested list & need to be changed to single word\n",
    "word_news_list = [item for sublist in news_list for item in sublist ]"
   ]
  },
  {
   "cell_type": "code",
   "execution_count": 31,
   "id": "electric-strain",
   "metadata": {},
   "outputs": [
    {
     "data": {
      "text/html": [
       "<div>\n",
       "<style scoped>\n",
       "    .dataframe tbody tr th:only-of-type {\n",
       "        vertical-align: middle;\n",
       "    }\n",
       "\n",
       "    .dataframe tbody tr th {\n",
       "        vertical-align: top;\n",
       "    }\n",
       "\n",
       "    .dataframe thead th {\n",
       "        text-align: right;\n",
       "    }\n",
       "</style>\n",
       "<table border=\"1\" class=\"dataframe\">\n",
       "  <thead>\n",
       "    <tr style=\"text-align: right;\">\n",
       "      <th></th>\n",
       "      <th>Label</th>\n",
       "      <th>Full_News</th>\n",
       "    </tr>\n",
       "  </thead>\n",
       "  <tbody>\n",
       "    <tr>\n",
       "      <th>0</th>\n",
       "      <td>UK-News</td>\n",
       "      <td>Let's resolve to reconnect, says Welby in new ...</td>\n",
       "    </tr>\n",
       "    <tr>\n",
       "      <th>1</th>\n",
       "      <td>US-News</td>\n",
       "      <td>The final sprint: will any of the Democratic c...</td>\n",
       "    </tr>\n",
       "    <tr>\n",
       "      <th>2</th>\n",
       "      <td>Politics</td>\n",
       "      <td>Clive Lewis calls for unity among Labour leade...</td>\n",
       "    </tr>\n",
       "    <tr>\n",
       "      <th>3</th>\n",
       "      <td>UK-News</td>\n",
       "      <td>Visa applications: Home Office refuses to reve...</td>\n",
       "    </tr>\n",
       "    <tr>\n",
       "      <th>4</th>\n",
       "      <td>UK-News</td>\n",
       "      <td>Victims of NYE Surrey road crash were BA cabin...</td>\n",
       "    </tr>\n",
       "    <tr>\n",
       "      <th>...</th>\n",
       "      <td>...</td>\n",
       "      <td>...</td>\n",
       "    </tr>\n",
       "    <tr>\n",
       "      <th>5413</th>\n",
       "      <td>US-News</td>\n",
       "      <td>Joe Biden to have new Secret Service team amid...</td>\n",
       "    </tr>\n",
       "    <tr>\n",
       "      <th>5414</th>\n",
       "      <td>UK-News</td>\n",
       "      <td>Police in Essex launch manhunt after pensioner...</td>\n",
       "    </tr>\n",
       "    <tr>\n",
       "      <th>5415</th>\n",
       "      <td>Politics</td>\n",
       "      <td>Dover eerily quiet on Brexit eve, but hauliers...</td>\n",
       "    </tr>\n",
       "    <tr>\n",
       "      <th>5416</th>\n",
       "      <td>US-News</td>\n",
       "      <td>Joe Biden to hold national memorial service fo...</td>\n",
       "    </tr>\n",
       "    <tr>\n",
       "      <th>5417</th>\n",
       "      <td>Politics</td>\n",
       "      <td>Brexit: in crisis, without fanfare, UK finally...</td>\n",
       "    </tr>\n",
       "  </tbody>\n",
       "</table>\n",
       "<p>5418 rows × 2 columns</p>\n",
       "</div>"
      ],
      "text/plain": [
       "         Label                                          Full_News\n",
       "0      UK-News  Let's resolve to reconnect, says Welby in new ...\n",
       "1      US-News  The final sprint: will any of the Democratic c...\n",
       "2     Politics  Clive Lewis calls for unity among Labour leade...\n",
       "3      UK-News  Visa applications: Home Office refuses to reve...\n",
       "4      UK-News  Victims of NYE Surrey road crash were BA cabin...\n",
       "...        ...                                                ...\n",
       "5413   US-News  Joe Biden to have new Secret Service team amid...\n",
       "5414   UK-News  Police in Essex launch manhunt after pensioner...\n",
       "5415  Politics  Dover eerily quiet on Brexit eve, but hauliers...\n",
       "5416   US-News  Joe Biden to hold national memorial service fo...\n",
       "5417  Politics  Brexit: in crisis, without fanfare, UK finally...\n",
       "\n",
       "[5418 rows x 2 columns]"
      ]
     },
     "execution_count": 31,
     "metadata": {},
     "output_type": "execute_result"
    }
   ],
   "source": [
    "concat_data"
   ]
  },
  {
   "cell_type": "code",
   "execution_count": 32,
   "id": "funky-undergraduate",
   "metadata": {},
   "outputs": [
    {
     "name": "stdout",
     "output_type": "stream",
     "text": [
      "Nr of unique words 10326\n"
     ]
    },
    {
     "data": {
      "text/plain": [
       "trump         1262\n",
       "uk            1081\n",
       "summari       1042\n",
       "us             871\n",
       "coronaviru     869\n",
       "dtype: int64"
      ]
     },
     "execution_count": 32,
     "metadata": {},
     "output_type": "execute_result"
    }
   ],
   "source": [
    "# Getting unique sets of words in articles\n",
    "unique_words = pd.Series(word_news_list).value_counts()\n",
    "print('Nr of unique words', unique_words.shape[0])\n",
    "unique_words.head()"
   ]
  },
  {
   "cell_type": "markdown",
   "id": "noticed-thickness",
   "metadata": {},
   "source": [
    "In unique_words, news words form our index, and number of occurances is the values in this unique words series. As we see, Trump, UK, summari, US, COVID-19 are the most popular words in the news.\n",
    "In below, we change the series to dataframe and assign word id to each news word"
   ]
  },
  {
   "cell_type": "code",
   "execution_count": 33,
   "id": "intelligent-blanket",
   "metadata": {},
   "outputs": [],
   "source": [
    "# Converting string to a list of tokens\n",
    "# analyzer is used to add specific features that we included in above text_reduction function\n",
    "#that does some kind of feature selection"
   ]
  },
  {
   "cell_type": "code",
   "execution_count": 34,
   "id": "chemical-mistress",
   "metadata": {},
   "outputs": [
    {
     "name": "stdout",
     "output_type": "stream",
     "text": [
      "Wall time: 8min 10s\n"
     ]
    }
   ],
   "source": [
    "%%time\n",
    "tokenize = CountVectorizer(analyzer = news_reduction).fit_transform(concat_data.Full_News)"
   ]
  },
  {
   "cell_type": "code",
   "execution_count": 35,
   "id": "digital-latvia",
   "metadata": {},
   "outputs": [
    {
     "data": {
      "text/plain": [
       "(5418, 10326)"
      ]
     },
     "execution_count": 35,
     "metadata": {},
     "output_type": "execute_result"
    }
   ],
   "source": [
    "tokenize.shape"
   ]
  },
  {
   "cell_type": "markdown",
   "id": "sporting-nudist",
   "metadata": {},
   "source": [
    "### 2-2-2: Creating 3 Sets of Documents "
   ]
  },
  {
   "cell_type": "markdown",
   "id": "killing-marathon",
   "metadata": {},
   "source": [
    "- Create a set of documents, one per news story. Each document should consist of the concatenation of the story’s title and text snippet. Each document should also have a class label, based on the story’s news category.\n",
    "- For this part of assignment, below stepes are followed:\n",
    "    - Realizing the index that refers to each News Lebel\n",
    "    - Creating 3 labels that store these index\n",
    "    - Using loc feature in series to only access the title +snippest in a list of strings"
   ]
  },
  {
   "cell_type": "code",
   "execution_count": 36,
   "id": "interior-consolidation",
   "metadata": {},
   "outputs": [],
   "source": [
    "# Creating 3 varibles that can hold the index related to News Article Labels\n",
    "doc_UK_index = concat_data[concat_data.Label == 'UK-News'].index\n",
    "doc_US_index = concat_data[concat_data.Label == 'US-News'].index\n",
    "doc_Politics_index = concat_data[concat_data.Label == 'Politics'].index"
   ]
  },
  {
   "cell_type": "code",
   "execution_count": 37,
   "id": "mature-emerald",
   "metadata": {},
   "outputs": [
    {
     "data": {
      "text/plain": [
       "(Int64Index([   0,    3,    4,    5,    6,    8,    9,   10,   11,   12,\n",
       "             ...\n",
       "             5387, 5389, 5390, 5391, 5393, 5394, 5398, 5401, 5407, 5414],\n",
       "            dtype='int64', length=1795),\n",
       " pandas.core.indexes.numeric.Int64Index,\n",
       " pandas.core.series.Series)"
      ]
     },
     "execution_count": 37,
     "metadata": {},
     "output_type": "execute_result"
    }
   ],
   "source": [
    "# Types of all of these 3 new variables are index, while News_list is series\n",
    "doc_UK_index , type(doc_UK_index) , type (news_list)"
   ]
  },
  {
   "cell_type": "code",
   "execution_count": 38,
   "id": "funny-palestinian",
   "metadata": {},
   "outputs": [],
   "source": [
    "UK = concat_data.loc[doc_UK_index] \n",
    "US = concat_data.loc[doc_US_index] \n",
    "Politics = concat_data.loc[doc_Politics_index] "
   ]
  },
  {
   "cell_type": "code",
   "execution_count": 39,
   "id": "operational-legislature",
   "metadata": {},
   "outputs": [
    {
     "data": {
      "text/html": [
       "<div>\n",
       "<style scoped>\n",
       "    .dataframe tbody tr th:only-of-type {\n",
       "        vertical-align: middle;\n",
       "    }\n",
       "\n",
       "    .dataframe tbody tr th {\n",
       "        vertical-align: top;\n",
       "    }\n",
       "\n",
       "    .dataframe thead th {\n",
       "        text-align: right;\n",
       "    }\n",
       "</style>\n",
       "<table border=\"1\" class=\"dataframe\">\n",
       "  <thead>\n",
       "    <tr style=\"text-align: right;\">\n",
       "      <th></th>\n",
       "      <th>Label</th>\n",
       "      <th>Full_News</th>\n",
       "    </tr>\n",
       "  </thead>\n",
       "  <tbody>\n",
       "    <tr>\n",
       "      <th>2</th>\n",
       "      <td>Politics</td>\n",
       "      <td>Clive Lewis calls for unity among Labour leade...</td>\n",
       "    </tr>\n",
       "    <tr>\n",
       "      <th>7</th>\n",
       "      <td>Politics</td>\n",
       "      <td>Sadiq Khan pledges free London travel for disa...</td>\n",
       "    </tr>\n",
       "    <tr>\n",
       "      <th>14</th>\n",
       "      <td>Politics</td>\n",
       "      <td>Whitehall reforms may lead to discrimination, ...</td>\n",
       "    </tr>\n",
       "    <tr>\n",
       "      <th>17</th>\n",
       "      <td>Politics</td>\n",
       "      <td>Starmer says he wants Labour 'rebuilt ... as t...</td>\n",
       "    </tr>\n",
       "    <tr>\n",
       "      <th>19</th>\n",
       "      <td>Politics</td>\n",
       "      <td>Keir Starmer calls to rebuild party as 'force ...</td>\n",
       "    </tr>\n",
       "    <tr>\n",
       "      <th>...</th>\n",
       "      <td>...</td>\n",
       "      <td>...</td>\n",
       "    </tr>\n",
       "    <tr>\n",
       "      <th>5410</th>\n",
       "      <td>Politics</td>\n",
       "      <td>Stanley Johnson confirms application for Frenc...</td>\n",
       "    </tr>\n",
       "    <tr>\n",
       "      <th>5411</th>\n",
       "      <td>Politics</td>\n",
       "      <td>Tampon tax: government axes VAT on sanitary pr...</td>\n",
       "    </tr>\n",
       "    <tr>\n",
       "      <th>5412</th>\n",
       "      <td>Politics</td>\n",
       "      <td>UK residents: how will you be impacted by Brex...</td>\n",
       "    </tr>\n",
       "    <tr>\n",
       "      <th>5415</th>\n",
       "      <td>Politics</td>\n",
       "      <td>Dover eerily quiet on Brexit eve, but hauliers...</td>\n",
       "    </tr>\n",
       "    <tr>\n",
       "      <th>5417</th>\n",
       "      <td>Politics</td>\n",
       "      <td>Brexit: in crisis, without fanfare, UK finally...</td>\n",
       "    </tr>\n",
       "  </tbody>\n",
       "</table>\n",
       "<p>1808 rows × 2 columns</p>\n",
       "</div>"
      ],
      "text/plain": [
       "         Label                                          Full_News\n",
       "2     Politics  Clive Lewis calls for unity among Labour leade...\n",
       "7     Politics  Sadiq Khan pledges free London travel for disa...\n",
       "14    Politics  Whitehall reforms may lead to discrimination, ...\n",
       "17    Politics  Starmer says he wants Labour 'rebuilt ... as t...\n",
       "19    Politics  Keir Starmer calls to rebuild party as 'force ...\n",
       "...        ...                                                ...\n",
       "5410  Politics  Stanley Johnson confirms application for Frenc...\n",
       "5411  Politics  Tampon tax: government axes VAT on sanitary pr...\n",
       "5412  Politics  UK residents: how will you be impacted by Brex...\n",
       "5415  Politics  Dover eerily quiet on Brexit eve, but hauliers...\n",
       "5417  Politics  Brexit: in crisis, without fanfare, UK finally...\n",
       "\n",
       "[1808 rows x 2 columns]"
      ]
     },
     "execution_count": 39,
     "metadata": {},
     "output_type": "execute_result"
    }
   ],
   "source": [
    "Politics"
   ]
  },
  {
   "cell_type": "code",
   "execution_count": 40,
   "id": "strong-phone",
   "metadata": {},
   "outputs": [
    {
     "name": "stdout",
     "output_type": "stream",
     "text": [
      "Number_of_US_News: US-News    1815\n",
      "Name: Label, dtype: int64 \n",
      "Number_of_Politics: Politics    1808\n",
      "Name: Label, dtype: int64\n",
      "Number_of_UK_News: UK-News    1795\n",
      "Name: Label, dtype: int64\n",
      "\n",
      "Len Every two Categories US_UK , US_Politics, UK_Politics: \n"
     ]
    },
    {
     "data": {
      "text/plain": [
       "(3610, 3623, 3603)"
      ]
     },
     "execution_count": 40,
     "metadata": {},
     "output_type": "execute_result"
    }
   ],
   "source": [
    "# Concanitaining pair of news articles and preparing them for training step\n",
    "df_US_UK = pd.concat( [US, UK])\n",
    "df_US_Politics = pd.concat ([US, Politics ])\n",
    "df_UK_Politics = pd.concat ([UK, Politics ])\n",
    "print('Number_of_US_News: %s \\nNumber_of_Politics: %s\\nNumber_of_UK_News: %s\\n'%(US.Label.value_counts(),Politics.Label.value_counts(), UK.Label.value_counts()))\n",
    "print ('Len Every two Categories US_UK , US_Politics, UK_Politics: ')\n",
    "len (df_US_UK ) , len(df_US_Politics ) , len (df_UK_Politics)"
   ]
  },
  {
   "cell_type": "code",
   "execution_count": 41,
   "id": "proof-brush",
   "metadata": {},
   "outputs": [
    {
     "data": {
      "text/html": [
       "<div>\n",
       "<style scoped>\n",
       "    .dataframe tbody tr th:only-of-type {\n",
       "        vertical-align: middle;\n",
       "    }\n",
       "\n",
       "    .dataframe tbody tr th {\n",
       "        vertical-align: top;\n",
       "    }\n",
       "\n",
       "    .dataframe thead th {\n",
       "        text-align: right;\n",
       "    }\n",
       "</style>\n",
       "<table border=\"1\" class=\"dataframe\">\n",
       "  <thead>\n",
       "    <tr style=\"text-align: right;\">\n",
       "      <th></th>\n",
       "      <th>Label</th>\n",
       "      <th>Full_News</th>\n",
       "    </tr>\n",
       "  </thead>\n",
       "  <tbody>\n",
       "    <tr>\n",
       "      <th>1</th>\n",
       "      <td>US-News</td>\n",
       "      <td>The final sprint: will any of the Democratic c...</td>\n",
       "    </tr>\n",
       "    <tr>\n",
       "      <th>20</th>\n",
       "      <td>US-News</td>\n",
       "      <td>Detroit firefighters face backlash over photo ...</td>\n",
       "    </tr>\n",
       "    <tr>\n",
       "      <th>22</th>\n",
       "      <td>US-News</td>\n",
       "      <td>Black people in California are stopped far mor...</td>\n",
       "    </tr>\n",
       "    <tr>\n",
       "      <th>27</th>\n",
       "      <td>US-News</td>\n",
       "      <td>Klobuchar took money from prosecutor condemned...</td>\n",
       "    </tr>\n",
       "    <tr>\n",
       "      <th>34</th>\n",
       "      <td>US-News</td>\n",
       "      <td>Fresno mass shooting: police arrest six suspec...</td>\n",
       "    </tr>\n",
       "    <tr>\n",
       "      <th>...</th>\n",
       "      <td>...</td>\n",
       "      <td>...</td>\n",
       "    </tr>\n",
       "    <tr>\n",
       "      <th>5394</th>\n",
       "      <td>UK-News</td>\n",
       "      <td>How Edward Heath taking a bath exposed Chequer...</td>\n",
       "    </tr>\n",
       "    <tr>\n",
       "      <th>5398</th>\n",
       "      <td>UK-News</td>\n",
       "      <td>UK weather: snow and ice to bring 2020 to wint...</td>\n",
       "    </tr>\n",
       "    <tr>\n",
       "      <th>5401</th>\n",
       "      <td>UK-News</td>\n",
       "      <td>'Happy vaccine day' at Welsh factory proudly p...</td>\n",
       "    </tr>\n",
       "    <tr>\n",
       "      <th>5407</th>\n",
       "      <td>UK-News</td>\n",
       "      <td>Tier 4 Covid rules in England: latest restrict...</td>\n",
       "    </tr>\n",
       "    <tr>\n",
       "      <th>5414</th>\n",
       "      <td>UK-News</td>\n",
       "      <td>Police in Essex launch manhunt after pensioner...</td>\n",
       "    </tr>\n",
       "  </tbody>\n",
       "</table>\n",
       "<p>3610 rows × 2 columns</p>\n",
       "</div>"
      ],
      "text/plain": [
       "        Label                                          Full_News\n",
       "1     US-News  The final sprint: will any of the Democratic c...\n",
       "20    US-News  Detroit firefighters face backlash over photo ...\n",
       "22    US-News  Black people in California are stopped far mor...\n",
       "27    US-News  Klobuchar took money from prosecutor condemned...\n",
       "34    US-News  Fresno mass shooting: police arrest six suspec...\n",
       "...       ...                                                ...\n",
       "5394  UK-News  How Edward Heath taking a bath exposed Chequer...\n",
       "5398  UK-News  UK weather: snow and ice to bring 2020 to wint...\n",
       "5401  UK-News  'Happy vaccine day' at Welsh factory proudly p...\n",
       "5407  UK-News  Tier 4 Covid rules in England: latest restrict...\n",
       "5414  UK-News  Police in Essex launch manhunt after pensioner...\n",
       "\n",
       "[3610 rows x 2 columns]"
      ]
     },
     "execution_count": 41,
     "metadata": {},
     "output_type": "execute_result"
    }
   ],
   "source": [
    "df_US_UK"
   ]
  },
  {
   "cell_type": "markdown",
   "id": "isolated-atlantic",
   "metadata": {},
   "source": [
    "### 2-2-3: Analysing 3 Documents By Vocabularies"
   ]
  },
  {
   "cell_type": "markdown",
   "id": "bigger-acceptance",
   "metadata": {},
   "source": [
    "In this section we would analyse:\n",
    "- (1) : Total number of words\n",
    "- (2) : Total number of unique words\n",
    "- (3) : Top words\n",
    "\n",
    "The interesting points are:\n",
    "\n",
    "- US_News tend to use more words to announce their news\n",
    "\n",
    "- Among all 38607 words exist in UK News, 455 words are unique and rest are duplicated. In **UK_NEWS**: CORONA VIRUS includes in top 5 repeated words\n",
    "\n",
    "- Among all 5852 words exist in US News, 1229 words are unique and rest are duplicated. In **US_NEWS**: CORONA VIRUS, Donald Trump and Biden include in top 5 repeated words\n",
    "\n",
    "- Among all 39618 words exist in US News, 663 words are unique and rest are duplicated. In **Politics_NEWS**: Brexist includes in top 5 repeated words"
   ]
  },
  {
   "cell_type": "code",
   "execution_count": 42,
   "id": "residential-absorption",
   "metadata": {},
   "outputs": [],
   "source": [
    "# Defing a function that goes to all the word exist in sublist\n",
    "def word_news (news_doc , label_list, label):\n",
    "    '''\n",
    "    1- Go through all the sublist included in news documents\n",
    "    2- Go theough every word inside the list\n",
    "    3- Create a list of all words in each news category\n",
    "    '''\n",
    "    for sublist in news_doc:\n",
    "         for word in sublist:\n",
    "            label_list.append(word)\n",
    "    print('Lenght of Total words in %s is %s ' % (label, len (label_list)))\n",
    "    print('Number of Unique Words in %s is %s : '% (label , pd.Series(label_list).value_counts()))\n",
    "    print ('Top 10 Famous Words in %s is %s '% (label, pd.Series(label_list).value_counts()[:6]))"
   ]
  },
  {
   "cell_type": "code",
   "execution_count": 43,
   "id": "opened-plenty",
   "metadata": {},
   "outputs": [
    {
     "name": "stdout",
     "output_type": "stream",
     "text": [
      "Lenght of Total words in UK_News is 38607 \n",
      "Number of Unique Words in UK_News is polic         455\n",
      "uk            412\n",
      "summari       353\n",
      "offic         241\n",
      "man           203\n",
      "             ... \n",
      "myriad          1\n",
      "decarbonis      1\n",
      "madrid          1\n",
      "filmmak         1\n",
      "prior           1\n",
      "Length: 5852, dtype: int64 : \n",
      "Top 10 Famous Words in UK_News is polic         455\n",
      "uk            412\n",
      "summari       353\n",
      "offic         241\n",
      "man           203\n",
      "coronaviru    201\n",
      "dtype: int64 \n",
      "Lenght of Total words in US_News is 41499 \n",
      "Number of Unique Words in US_News is trump          1229\n",
      "us              730\n",
      "donald          558\n",
      "biden           404\n",
      "coronaviru      332\n",
      "               ... \n",
      "depot             1\n",
      "unwittingli       1\n",
      "horror            1\n",
      "admiss            1\n",
      "prior             1\n",
      "Length: 5977, dtype: int64 : \n",
      "Top 10 Famous Words in US_News is trump         1229\n",
      "us             730\n",
      "donald         558\n",
      "biden          404\n",
      "coronaviru     332\n",
      "summari        328\n",
      "dtype: int64 \n",
      "Lenght of Total words in Politics_News is 39618 \n",
      "Number of Unique Words in Politics_News is johnson         663\n",
      "uk              652\n",
      "bori            608\n",
      "brexit          539\n",
      "labour          473\n",
      "               ... \n",
      "decent            1\n",
      "elgot             1\n",
      "motorcyclist      1\n",
      "poli              1\n",
      "rela              1\n",
      "Length: 5080, dtype: int64 : \n",
      "Top 10 Famous Words in Politics_News is johnson    663\n",
      "uk         652\n",
      "bori       608\n",
      "brexit     539\n",
      "labour     473\n",
      "govern     369\n",
      "dtype: int64 \n"
     ]
    }
   ],
   "source": [
    "# Applying the word_news function\n",
    "UK_Words = []\n",
    "US_Words = []\n",
    "Politics_Words = []\n",
    "# Creating Subsets Series Using all the genereated index for these 3 labels\n",
    "word_news (news_list.loc[doc_UK_index], UK_Words, 'UK_News')\n",
    "word_news (news_list.loc[doc_US_index], US_Words, 'US_News')\n",
    "word_news (news_list.loc [doc_Politics_index], Politics_Words, 'Politics_News')"
   ]
  },
  {
   "cell_type": "markdown",
   "id": "spatial-currency",
   "metadata": {},
   "source": [
    "## <font color='green'> ii & iii . Training & Testing Data & Visualisation</font> "
   ]
  },
  {
   "cell_type": "markdown",
   "id": "weighted-madison",
   "metadata": {},
   "source": [
    "## Splitting News Data into Training & Testing Sets"
   ]
  },
  {
   "cell_type": "markdown",
   "id": "abandoned-yeast",
   "metadata": {},
   "source": [
    "<font color='orange'> **1- Here we create X & y (train & Test) for all pair combinations**</font>"
   ]
  },
  {
   "cell_type": "markdown",
   "id": "false-shirt",
   "metadata": {},
   "source": [
    " **Create X (all the feature columns )**"
   ]
  },
  {
   "cell_type": "code",
   "execution_count": 44,
   "id": "played-tournament",
   "metadata": {},
   "outputs": [
    {
     "name": "stdout",
     "output_type": "stream",
     "text": [
      "Wall time: 19min 26s\n"
     ]
    },
    {
     "data": {
      "text/plain": [
       "(3610, 3623, 3603)"
      ]
     },
     "execution_count": 44,
     "metadata": {},
     "output_type": "execute_result"
    }
   ],
   "source": [
    "%%time\n",
    "X_US_UK = CountVectorizer(analyzer = news_reduction).fit_transform(df_US_UK.Full_News)\n",
    "X_US_Politics = CountVectorizer(analyzer = news_reduction).fit_transform(df_US_Politics .Full_News)\n",
    "X_UK_Politic= CountVectorizer(analyzer = news_reduction).fit_transform(df_UK_Politics .Full_News)\n",
    "\n",
    "X_US_UK.shape[0] , X_US_Politics.shape[0] ,  X_UK_Politic.shape[0]"
   ]
  },
  {
   "cell_type": "markdown",
   "id": "lucky-warrant",
   "metadata": {},
   "source": [
    " **Create y (all the News Category Label columns )**"
   ]
  },
  {
   "cell_type": "code",
   "execution_count": 45,
   "id": "built-trial",
   "metadata": {},
   "outputs": [
    {
     "name": "stdout",
     "output_type": "stream",
     "text": [
      "Wall time: 2 ms\n"
     ]
    },
    {
     "data": {
      "text/plain": [
       "(3610, 3623, 3603)"
      ]
     },
     "execution_count": 45,
     "metadata": {},
     "output_type": "execute_result"
    }
   ],
   "source": [
    "%%time\n",
    "y_US_UK = df_US_UK.Label\n",
    "y_US_Politics = df_US_Politics.Label\n",
    "y_UK_Politic = df_UK_Politics.Label\n",
    "\n",
    "y_US_UK.shape[0] , y_US_Politics.shape[0] ,  y_UK_Politic.shape[0]"
   ]
  },
  {
   "cell_type": "markdown",
   "id": "jewish-paintball",
   "metadata": {},
   "source": [
    "<font color='orange'> **2- Here we split the datasets for all pair combinations**</font>"
   ]
  },
  {
   "cell_type": "markdown",
   "id": "rocky-marriage",
   "metadata": {},
   "source": [
    "<bar>In this section, I want to divide our dataset to train & test sets. I consider 30% of the data for testing session and the rest for training our model. \n",
    "    Also based on the bar graphs the distribution of each pairs is really good! "
   ]
  },
  {
   "cell_type": "markdown",
   "id": "polar-ground",
   "metadata": {},
   "source": [
    "### Category : US_News & UK_News"
   ]
  },
  {
   "cell_type": "code",
   "execution_count": 46,
   "id": "suburban-petersburg",
   "metadata": {},
   "outputs": [
    {
     "data": {
      "text/plain": [
       "((2527, 8837), (1083, 8837), (2527,), (1083,))"
      ]
     },
     "execution_count": 46,
     "metadata": {},
     "output_type": "execute_result"
    }
   ],
   "source": [
    "# Spliting datta into training & testing sets\n",
    "\n",
    "X_US_UK_train, X_US_UK_test, y_US_UK_train, y_US_UK_test = train_test_split(X_US_UK,  y_US_UK , test_size = 0.3, random_state = 42)\n",
    "X_US_UK_train.shape, X_US_UK_test.shape, y_US_UK_train.shape, y_US_UK_test.shape"
   ]
  },
  {
   "cell_type": "code",
   "execution_count": 107,
   "id": "metallic-christopher",
   "metadata": {},
   "outputs": [
    {
     "name": "stdout",
     "output_type": "stream",
     "text": [
      " The number of news training samples are(3610 * 0.7) =  2527\n"
     ]
    },
    {
     "data": {
      "image/png": "[encoded data removed]",
      "text/plain": [
       "<Figure size 432x288 with 1 Axes>"
      ]
     },
     "metadata": {
      "needs_background": "light"
     },
     "output_type": "display_data"
    }
   ],
   "source": [
    "print(' The number of news training samples are(3610 * 0.7) = ', X_US_UK_train.shape[0])\n",
    "\n",
    "# Plot the value_counts with a bar graph \n",
    "y_US_UK.value_counts().plot(kind = 'bar', color = ['salmon', 'lightblue']);"
   ]
  },
  {
   "cell_type": "markdown",
   "id": "brilliant-burst",
   "metadata": {},
   "source": [
    "### Category : US_News & Politics"
   ]
  },
  {
   "cell_type": "code",
   "execution_count": 48,
   "id": "outstanding-insert",
   "metadata": {},
   "outputs": [
    {
     "data": {
      "text/plain": [
       "((2536, 8190), (1087, 8190), (2536,), (1087,))"
      ]
     },
     "execution_count": 48,
     "metadata": {},
     "output_type": "execute_result"
    }
   ],
   "source": [
    "# Spliting datta into training & testing sets\n",
    "\n",
    "X_US_Politics_train, X_US_Politics_test, y_US_Politics_train, y_US_Politics_test = train_test_split(X_US_Politics,  y_US_Politics , test_size = 0.3, random_state = 42)\n",
    "X_US_Politics_train.shape, X_US_Politics_test.shape, y_US_Politics_train.shape, y_US_Politics_test.shape"
   ]
  },
  {
   "cell_type": "code",
   "execution_count": 106,
   "id": "latter-piece",
   "metadata": {},
   "outputs": [
    {
     "name": "stdout",
     "output_type": "stream",
     "text": [
      " The number of news training samples are(3623 * 0.7) =  2536\n"
     ]
    },
    {
     "data": {
      "image/png": "[encoded data removed]",
      "text/plain": [
       "<Figure size 432x288 with 1 Axes>"
      ]
     },
     "metadata": {
      "needs_background": "light"
     },
     "output_type": "display_data"
    }
   ],
   "source": [
    "print(' The number of news training samples are(3623 * 0.7) = ', X_US_Politics_train.shape[0])\n",
    "\n",
    "# Plot the value_counts with a bar graph\n",
    "y_US_Politics.value_counts().plot(kind = 'bar', color = ['salmon', 'lightblue']);"
   ]
  },
  {
   "cell_type": "markdown",
   "id": "mobile-holly",
   "metadata": {},
   "source": [
    "### Category : UK_News & Politics"
   ]
  },
  {
   "cell_type": "code",
   "execution_count": 50,
   "id": "naughty-contractor",
   "metadata": {},
   "outputs": [
    {
     "data": {
      "text/plain": [
       "((2522, 7943), (1081, 7943), (2522,), (1081,))"
      ]
     },
     "execution_count": 50,
     "metadata": {},
     "output_type": "execute_result"
    }
   ],
   "source": [
    "# Spliting datta into training & testing sets\n",
    "\n",
    "X_UK_Politic_train, X_UK_Politic_test, y_UK_Politic_train, y_UK_Politic_test = train_test_split(X_UK_Politic,  y_UK_Politic , test_size = 0.3, random_state = 42)\n",
    "X_UK_Politic_train.shape, X_UK_Politic_test.shape, y_UK_Politic_train.shape, y_UK_Politic_test.shape\n"
   ]
  },
  {
   "cell_type": "code",
   "execution_count": 108,
   "id": "funny-relevance",
   "metadata": {},
   "outputs": [
    {
     "name": "stdout",
     "output_type": "stream",
     "text": [
      " The number of news training samples are(3603 * 0.7) =  2522\n"
     ]
    },
    {
     "data": {
      "image/png": "[encoded data removed]",
      "text/plain": [
       "<Figure size 432x288 with 1 Axes>"
      ]
     },
     "metadata": {
      "needs_background": "light"
     },
     "output_type": "display_data"
    }
   ],
   "source": [
    "print(' The number of news training samples are(3603 * 0.7) = ', X_UK_Politic_train.shape[0])\n",
    "y_UK_Politic.value_counts().plot(kind = 'bar', color = ['salmon', 'lightblue']);"
   ]
  },
  {
   "cell_type": "markdown",
   "id": "electric-trainer",
   "metadata": {},
   "source": [
    "### Binary Classification Model Choices"
   ]
  },
  {
   "cell_type": "markdown",
   "id": "raised-onion",
   "metadata": {},
   "source": [
    "The prepared data is used to fit the model. The below binary classifications are selected to compare the result. (this link https://scikit-learn.org/stable/tutorial/machine_learning_map/index.html is used to chose which model may be usable for news clasification)\n",
    "* 1- Logestic Regression\n",
    "* 2- K_Nearest Neighbors\n",
    "* 3- RandomFores\n",
    "- All of these 3 models, implement the same method for fitting news article and also evaluation part, so a dictionary should be created to make these steps easier."
   ]
  },
  {
   "cell_type": "code",
   "execution_count": 142,
   "id": "synthetic-leave",
   "metadata": {},
   "outputs": [],
   "source": [
    "# put 3 models into a dict \n",
    "models = {\"KNN\": KNeighborsClassifier(),\n",
    "          \"Logistic Regression\": LogisticRegression(), \n",
    "          \"Random Forest\": RandomForestClassifier()}\n",
    "\n",
    "# Create function to fit & score models\n",
    "def fit_score(models, X_train, X_test, y_train, y_test):\n",
    "\n",
    "    # random sees for seeing the same result\n",
    "    np.random.seed(42)\n",
    "    # Make a dict to store models' scores\n",
    "    model_scores = {}\n",
    "    # Loop through models\n",
    "    for name, model in models.items():\n",
    "        # fit the model to news data\n",
    "        model.fit(X_train, y_train)\n",
    "        # Evaluate the model and append to list\n",
    "        model_scores[name] = model.score(X_test, y_test)\n",
    "    return model_scores"
   ]
  },
  {
   "cell_type": "code",
   "execution_count": 162,
   "id": "amino-drove",
   "metadata": {},
   "outputs": [],
   "source": [
    "# Fitting the model on all 3 combination pairs\n",
    "# 1- US_UK\n",
    "model_scores_US_UK = fit_score(models =models, X_train = X_US_UK_train, X_test = X_US_UK_test, y_train = y_US_UK_train, y_test = y_US_UK_test)\n",
    "\n",
    "# 2- US_Politics\n",
    "model_scores_US_Politics = fit_score(models =models, X_train = X_US_Politics_train, X_test = X_US_Politics_test, y_train = y_US_Politics_train, y_test = y_US_Politics_test)\n",
    "\n",
    "# 3- # UK_Politi\n",
    "model_scores_UK_Politics = fit_score(models =models, X_train = X_UK_Politic_train, X_test = X_UK_Politic_test, y_train = y_UK_Politic_train, y_test = y_UK_Politic_test)\n"
   ]
  },
  {
   "cell_type": "code",
   "execution_count": 167,
   "id": "creative-estonia",
   "metadata": {},
   "outputs": [
    {
     "data": {
      "text/plain": [
       "({'KNN': 0.8614958448753463,\n",
       "  'Logistic Regression': 0.9529085872576177,\n",
       "  'Random Forest': 0.9464450600184672},\n",
       " {'KNN': 0.9291628334866605,\n",
       "  'Logistic Regression': 0.9770009199632015,\n",
       "  'Random Forest': 0.9742410303587856},\n",
       " {'KNN': 0.7252543940795559,\n",
       "  'Logistic Regression': 0.8640148011100832,\n",
       "  'Random Forest': 0.8686401480111008})"
      ]
     },
     "execution_count": 167,
     "metadata": {},
     "output_type": "execute_result"
    }
   ],
   "source": [
    "model_scores_US_UK , model_scores_US_Politics , model_scores_UK_Politics"
   ]
  },
  {
   "cell_type": "markdown",
   "id": "subject-paradise",
   "metadata": {},
   "source": [
    "### Binary Classification Model Comparision"
   ]
  },
  {
   "cell_type": "markdown",
   "id": "unlikely-convergence",
   "metadata": {},
   "source": [
    "These  3 bar chart shows which models had a better performance comparing to others. \n",
    "- **US_UK** : Logestic Regression\n",
    "- **US_Politics** : Logestic Regression\n",
    "- **UK_Politics** : Random Forest"
   ]
  },
  {
   "cell_type": "code",
   "execution_count": 164,
   "id": "juvenile-output",
   "metadata": {},
   "outputs": [
    {
     "data": {
      "image/png": "[encoded data removed]",
      "text/plain": [
       "<Figure size 432x288 with 1 Axes>"
      ]
     },
     "metadata": {
      "needs_background": "light"
     },
     "output_type": "display_data"
    }
   ],
   "source": [
    "model_compare_US_UK = pd.DataFrame(model_scores_US_UK, index = ['Accuracy'])\n",
    "bar_color = ['#ffeaa7']\n",
    "model_compare_US_UK.T.plot.bar(color = bar_color )\n",
    "plt.title('Model Score US & UK', fontsize = 12);"
   ]
  },
  {
   "cell_type": "code",
   "execution_count": 165,
   "id": "incorporate-george",
   "metadata": {},
   "outputs": [
    {
     "data": {
      "image/png": "[encoded data removed]",
      "text/plain": [
       "<Figure size 432x288 with 1 Axes>"
      ]
     },
     "metadata": {
      "needs_background": "light"
     },
     "output_type": "display_data"
    }
   ],
   "source": [
    "model_compare_US_Politics = pd.DataFrame(model_scores_US_Politics, index = ['Accuracy'])\n",
    "bar_color = ['#00cec9']\n",
    "model_compare_US_Politics.T.plot.bar(color = bar_color )\n",
    "plt.title('Model Score US & Politics', fontsize = 12);"
   ]
  },
  {
   "cell_type": "code",
   "execution_count": 166,
   "id": "behavioral-seventh",
   "metadata": {},
   "outputs": [
    {
     "data": {
      "image/png": "[encoded data removed]",
      "text/plain": [
       "<Figure size 432x288 with 1 Axes>"
      ]
     },
     "metadata": {
      "needs_background": "light"
     },
     "output_type": "display_data"
    }
   ],
   "source": [
    "model_compare_UK_Politics = pd.DataFrame(model_scores_UK_Politics, index = ['Accuracy'])\n",
    "bar_color = ['#00b894']\n",
    "model_compare_UK_Politics.T.plot.bar(color = bar_color )\n",
    "plt.title('Model Score UK & Politics', fontsize = 12);"
   ]
  },
  {
   "cell_type": "markdown",
   "id": "strategic-mitchell",
   "metadata": {},
   "source": [
    "## <font color='green'> Evaluation </font> "
   ]
  },
  {
   "cell_type": "markdown",
   "id": "varied-pattern",
   "metadata": {},
   "source": [
    "##  1. Accuracy Evaluation:"
   ]
  },
  {
   "cell_type": "markdown",
   "id": "virtual-bradford",
   "metadata": {},
   "source": [
    "## Improving Model Prediction by Hyperparameter tuning"
   ]
  },
  {
   "cell_type": "markdown",
   "id": "legitimate-berlin",
   "metadata": {},
   "source": [
    "In all of the above bar graphs,  we would try to change the hyperparameteres to see if we could increase the performance.\n",
    "As explained, LogesticRegression  had the better performance in almost all of the aboved graphs, so we select it to see if we can improve it. "
   ]
  },
  {
   "cell_type": "markdown",
   "id": "opponent-going",
   "metadata": {},
   "source": [
    "### Improving  LogisticRegresion By RandomizedSearchCV\n",
    "This link is used for changing hyperparameters\n",
    "https://scikit-learn.org/stable/modules/generated/sklearn.model_selection.RandomizedSearchCV.html\n",
    "The parameters of the estimator used to apply these methods are optimized by cross-validated search over parameter settings."
   ]
  },
  {
   "cell_type": "markdown",
   "id": "forced-qatar",
   "metadata": {},
   "source": [
    "#### LogisticRegresion Hyperparameter Setup"
   ]
  },
  {
   "cell_type": "code",
   "execution_count": 279,
   "id": "ambient-delicious",
   "metadata": {},
   "outputs": [],
   "source": [
    "# Creating a dictionary of different hyper parameters\n",
    "\n",
    "'''\n",
    "LogisticRegresion\n",
    "'''\n",
    "# C: float --> Inverse of regularization Strenght (Smaller Values--> Stronger Regularization)\n",
    "# Solver : Algorithm to use in the Optimization problem\n",
    "# logspace : Return numbers soaced evenly on a log scale\n",
    "\n",
    "log_reg_dict = {\"C\": np.logspace(-4, 4, 20),\n",
    "                \"solver\": [\"saga\"],\n",
    "                'tol' : [1e-2], 'max_iter':[200],'random_state':[0]}"
   ]
  },
  {
   "cell_type": "markdown",
   "id": "electronic-overhead",
   "metadata": {},
   "source": [
    "#### RandomizedSearchCV Tunning"
   ]
  },
  {
   "cell_type": "markdown",
   "id": "suffering-calendar",
   "metadata": {},
   "source": [
    "## Model Evaluation with New HyperParameters"
   ]
  },
  {
   "cell_type": "code",
   "execution_count": 303,
   "id": "marine-jenny",
   "metadata": {},
   "outputs": [],
   "source": [
    "# RandomizedSearchCV Tunning\n",
    "np.random.seed(42)  # Setup random seed\n",
    "\n",
    "# Random HyperParameter Search Setup\n",
    "rs_log_reg = RandomizedSearchCV(LogisticRegression(),\n",
    "                                 param_distributions = log_reg_dict,\n",
    "                                 cv = 5,\n",
    "                                 n_iter = 20,\n",
    "                                 verbose =True)\n",
    "\n",
    "# Create function to fit & score models for new hyperparameters\n",
    "def fit_score_rs_cv(model, X_train, X_test, y_train, y_test, title , old_score):\n",
    "\n",
    "    # random sees for seeing the same result\n",
    "    np.random.seed(42)\n",
    "    # Make a dict to store models' scores\n",
    "    model_scores = {}\n",
    "    # fit the model to news data\n",
    "    model_fit = model.fit(X_train, y_train)\n",
    "    # Evaluate the model and append to list\n",
    "    model_scores = model.score(X_test, y_test)\n",
    "    \n",
    "    print('The LOGISTICREGRESSION model is tunning by RandomizedSearchCV\\n')\n",
    "    print('\\n---------------------------------------------------------\\n')\n",
    "    print ('New_Model_scores for %s is :%s' %( title, model_scores ))\n",
    "    print('\\n---------------------------------------------------------\\n')\n",
    "    \n",
    "    print ('%s Before Tuning the score was : %s \\n After Tuning the score is : %s \\nThe model is improved by : %s \\n'% (title, old_score, model_scores , ((model_scores- old_score)*100)))\n",
    "    print('\\n---------------------------------------------------------\\n')\n",
    "    return model_scores "
   ]
  },
  {
   "cell_type": "code",
   "execution_count": 304,
   "id": "short-beatles",
   "metadata": {},
   "outputs": [
    {
     "name": "stdout",
     "output_type": "stream",
     "text": [
      "Fitting 5 folds for each of 20 candidates, totalling 100 fits\n",
      "The LOGISTICREGRESSION model is tunning by RandomizedSearchCV\n",
      "\n",
      "\n",
      "---------------------------------------------------------\n",
      "\n",
      "New_Model_scores for US_UK_News is :0.9547553093259464\n",
      "\n",
      "---------------------------------------------------------\n",
      "\n",
      "US_UK_News Before Tuning the score was : 0.9529085872576177 \n",
      " After Tuning the score is : 0.9547553093259464 \n",
      "The model is improved by : 0.1846722068328699 \n",
      "\n",
      "\n",
      "---------------------------------------------------------\n",
      "\n",
      "Fitting 5 folds for each of 20 candidates, totalling 100 fits\n",
      "The LOGISTICREGRESSION model is tunning by RandomizedSearchCV\n",
      "\n",
      "\n",
      "---------------------------------------------------------\n",
      "\n",
      "New_Model_scores for US_Politics_News is :0.9770009199632015\n",
      "\n",
      "---------------------------------------------------------\n",
      "\n",
      "US_Politics_News Before Tuning the score was : 0.9770009199632015 \n",
      " After Tuning the score is : 0.9770009199632015 \n",
      "The model is improved by : 0.0 \n",
      "\n",
      "\n",
      "---------------------------------------------------------\n",
      "\n",
      "Fitting 5 folds for each of 20 candidates, totalling 100 fits\n",
      "The LOGISTICREGRESSION model is tunning by RandomizedSearchCV\n",
      "\n",
      "\n",
      "---------------------------------------------------------\n",
      "\n",
      "New_Model_scores for UK_Politics_News is :0.8751156336725254\n",
      "\n",
      "---------------------------------------------------------\n",
      "\n",
      "UK_Politics_News Before Tuning the score was : 0.8640148011100832 \n",
      " After Tuning the score is : 0.8751156336725254 \n",
      "The model is improved by : 1.1100832562442209 \n",
      "\n",
      "\n",
      "---------------------------------------------------------\n",
      "\n"
     ]
    }
   ],
   "source": [
    "# Fitting the model on all 3 combination pairs\n",
    "# 1- US_UK\n",
    "model_rs_cv_scores_US_UK = fit_score_rs_cv(model =rs_log_reg, X_train = X_US_UK_train, X_test = X_US_UK_test, y_train = y_US_UK_train, y_test = y_US_UK_test, title ='US_UK_News',  old_score =model_scores_US_UK['Logistic Regression'])\n",
    "\n",
    "# 2- US_Politics\n",
    "model_rs_cv_scores_US_Politics = fit_score_rs_cv(model =rs_log_reg, X_train = X_US_Politics_train, X_test = X_US_Politics_test, y_train = y_US_Politics_train, y_test = y_US_Politics_test, title ='US_Politics_News',  old_score = model_scores_US_Politics['Logistic Regression'] )\n",
    "\n",
    "# 3- # UK_Politi\n",
    "model_rs_cv_scores_UK_Politics = fit_score_rs_cv(model = rs_log_reg, X_train = X_UK_Politic_train, X_test = X_UK_Politic_test, y_train = y_UK_Politic_train, y_test = y_UK_Politic_test, title ='UK_Politics_News',  old_score = model_scores_UK_Politics['Logistic Regression'])\n"
   ]
  },
  {
   "cell_type": "markdown",
   "id": "false-interim",
   "metadata": {},
   "source": [
    "## 2. ROC Curve & AUC Score\n",
    "Comparision of True Postive Rate VS False Positive Rate"
   ]
  },
  {
   "cell_type": "code",
   "execution_count": 315,
   "id": "monetary-making",
   "metadata": {},
   "outputs": [
    {
     "name": "stdout",
     "output_type": "stream",
     "text": [
      "Fitting 5 folds for each of 20 candidates, totalling 100 fits\n",
      "Fitting 5 folds for each of 20 candidates, totalling 100 fits\n",
      "Fitting 5 folds for each of 20 candidates, totalling 100 fits\n"
     ]
    }
   ],
   "source": [
    "## Evaluation our Tuned LogisticRegresion Machine Learning Binary Classification Model\n",
    "\n",
    "# Prediction with Tuned Model giving the test data to predict y\n",
    "\n",
    "y_US_UK_predict = rs_log_reg.fit(X_US_UK_train, y_US_UK_train).predict (X_US_UK_test)\n",
    "y_US_Politics_predict = rs_log_reg.fit(X_US_Politics_train , y_US_Politics_train).predict (X_US_Politics_test)\n",
    "y_UK_Politic_predict =rs_log_reg.fit( X_UK_Politic_train ,  y_UK_Politic_train).predict ( X_UK_Politic_test)"
   ]
  },
  {
   "cell_type": "markdown",
   "id": "chicken-thousand",
   "metadata": {},
   "source": [
    "Based on the calculated AUC, the model is working very well !! AUC is almost near 1"
   ]
  },
  {
   "cell_type": "code",
   "execution_count": 326,
   "id": "single-bhutan",
   "metadata": {},
   "outputs": [
    {
     "name": "stdout",
     "output_type": "stream",
     "text": [
      "Plot 1: ROC CURVE US_UK\n",
      "Fitting 5 folds for each of 20 candidates, totalling 100 fits\n",
      "Plot 2: ROC CURVE US_Politics\n",
      "Fitting 5 folds for each of 20 candidates, totalling 100 fits\n",
      "Plot 3: ROC CURVE UK_Politics\n",
      "Fitting 5 folds for each of 20 candidates, totalling 100 fits\n"
     ]
    },
    {
     "data": {
      "image/png": "[encoded data removed]",
      "text/plain": [
       "<Figure size 432x288 with 1 Axes>"
      ]
     },
     "metadata": {
      "needs_background": "light"
     },
     "output_type": "display_data"
    },
    {
     "data": {
      "image/png": "[encoded data removed]",
      "text/plain": [
       "<Figure size 432x288 with 1 Axes>"
      ]
     },
     "metadata": {
      "needs_background": "light"
     },
     "output_type": "display_data"
    },
    {
     "data": {
      "image/png": "[encoded data removed]",
      "text/plain": [
       "<Figure size 432x288 with 1 Axes>"
      ]
     },
     "metadata": {
      "needs_background": "light"
     },
     "output_type": "display_data"
    }
   ],
   "source": [
    "# Plot ROC Curve and Calculate AUC Matrix\n",
    "\n",
    "print('Plot 1: ROC CURVE US_UK')\n",
    "plot_roc_curve(rs_log_reg.fit(X_US_UK_train, y_US_UK_train), X_US_UK_test, y_US_UK_test)\n",
    "\n",
    "print('Plot 2: ROC CURVE US_Politics')\n",
    "plot_roc_curve(rs_log_reg.fit(X_US_Politics_train , y_US_Politics_train), X_US_Politics_test, y_US_Politics_test)\n",
    "\n",
    "print('Plot 3: ROC CURVE UK_Politics')\n",
    "plot_roc_curve(rs_log_reg.fit( X_UK_Politic_train ,  y_UK_Politic_train), X_UK_Politic_test, y_UK_Politic_test);"
   ]
  },
  {
   "cell_type": "markdown",
   "id": "assured-particular",
   "metadata": {},
   "source": [
    "## 3. Confiusion Matrix\n",
    "\n",
    "Confusion matrix is used to compare the actual label VS predict label"
   ]
  },
  {
   "cell_type": "code",
   "execution_count": 332,
   "id": "italian-birthday",
   "metadata": {},
   "outputs": [
    {
     "data": {
      "image/png": "[encoded data removed]",
      "text/plain": [
       "<Figure size 216x216 with 1 Axes>"
      ]
     },
     "metadata": {},
     "output_type": "display_data"
    },
    {
     "data": {
      "image/png": "[encoded data removed]",
      "text/plain": [
       "<Figure size 216x216 with 1 Axes>"
      ]
     },
     "metadata": {},
     "output_type": "display_data"
    },
    {
     "data": {
      "image/png": "[encoded data removed]",
      "text/plain": [
       "<Figure size 216x216 with 1 Axes>"
      ]
     },
     "metadata": {},
     "output_type": "display_data"
    }
   ],
   "source": [
    "# Plot Confusion Matrix\n",
    "sns.set(font_scale=1.5)\n",
    "\n",
    "def plot_conf_mat(y_test, y_preds, title):\n",
    "\n",
    "    fig, ax = plt.subplots(figsize=(3, 3))\n",
    "    \n",
    "    ax = sns.heatmap(confusion_matrix(y_test, y_preds), #using seaborn heatmap\n",
    "                     annot=True, # annonate\n",
    "                     cbar=False)\n",
    "    plt.xlabel(\"True label\")\n",
    "    plt.ylabel(\"Predicted label\")\n",
    "    plt.title(title)\n",
    "    # Fix botom & top to see numbers inside\n",
    "    bottom, top = ax.get_ylim()\n",
    "    ax.set_ylim(bottom + 0.5, top - 0.5)\n",
    "\n",
    "\n",
    "\n",
    "plot_conf_mat(y_US_UK_test, y_US_UK_predict, 'Confusion Matrix US_UK')\n",
    "plot_conf_mat(y_US_Politics_test, y_US_Politics_predict, 'Confusion Matrix US_Politics')\n",
    "plot_conf_mat(y_UK_Politic_test, y_UK_Politic_predict ,'Confusion Matrix UK_Politics')"
   ]
  },
  {
   "cell_type": "markdown",
   "id": "romance-emergency",
   "metadata": {},
   "source": [
    "# Task 3. Multi-Class Text Classification"
   ]
  },
  {
   "cell_type": "markdown",
   "id": "coordinate-trader",
   "metadata": {},
   "source": [
    "Using all three categories (A,B,C) that you have selected"
   ]
  },
  {
   "cell_type": "markdown",
   "id": "entire-orchestra",
   "metadata": {},
   "source": [
    "## <font color='green'> IV Data Preperation and Evaluation </font> "
   ]
  },
  {
   "cell_type": "markdown",
   "id": "planned-desert",
   "metadata": {},
   "source": [
    "Appropriate preprocessing steps to create a numeric representation of the documents for these three categories have been already apllied in Task 2, please refer to Task2-Data Preperation & visualisation. Here, we would use the prepared numeric representation to train, test and evaluate our model."
   ]
  },
  {
   "cell_type": "markdown",
   "id": "clear-executive",
   "metadata": {},
   "source": [
    "## <font color='green'> V & VI Training & Testing Data </font> "
   ]
  },
  {
   "cell_type": "markdown",
   "id": "southwest-configuration",
   "metadata": {},
   "source": [
    "The explanation for train, test part would be the same as Task 2, while we are facing 3 class in this task"
   ]
  },
  {
   "cell_type": "markdown",
   "id": "purple-judges",
   "metadata": {},
   "source": [
    "### Splitting News Data into Training & Testing Sets"
   ]
  },
  {
   "cell_type": "markdown",
   "id": "precious-demonstration",
   "metadata": {},
   "source": [
    "In this section, we want to divide our dataset to train & test sets. We consider 30% of the data for testing session and the rest for training our model. "
   ]
  },
  {
   "cell_type": "code",
   "execution_count": 57,
   "id": "fresh-division",
   "metadata": {},
   "outputs": [
    {
     "data": {
      "text/plain": [
       "((3792, 10326), (1626, 10326), (3792,), (1626,))"
      ]
     },
     "execution_count": 57,
     "metadata": {},
     "output_type": "execute_result"
    }
   ],
   "source": [
    "X_train, X_test, y_train, y_test = train_test_split(tokenize, concat_data.Label,\n",
    "                                                    test_size = 0.3, random_state = 88)\n",
    "X_train.shape, X_test.shape, y_train.shape, y_test.shape"
   ]
  },
  {
   "cell_type": "markdown",
   "id": "convertible-significance",
   "metadata": {},
   "source": [
    "### Selected Model: SVC"
   ]
  },
  {
   "cell_type": "markdown",
   "id": "broke-paradise",
   "metadata": {},
   "source": [
    "SVM constructs a hyperplane in multidimensional space to separate different classes to find a maximum marginal hyperplane(MMH) that best divides the dataset into classes (Wikipedia)\n",
    "- C-Support Vector Classification:\n",
    "The implementation is based on libsvm. The fit time scales at least quadratically with the number of samples and may be impractical beyond tens of thousands of samples."
   ]
  },
  {
   "cell_type": "code",
   "execution_count": 341,
   "id": "superior-dividend",
   "metadata": {},
   "outputs": [
    {
     "data": {
      "text/plain": [
       "SVC(kernel='linear')"
      ]
     },
     "execution_count": 341,
     "metadata": {},
     "output_type": "execute_result"
    }
   ],
   "source": [
    "# train the model on train set\n",
    "model = svm.SVC(kernel='linear')\n",
    "model.fit(X_train, y_train)"
   ]
  },
  {
   "cell_type": "code",
   "execution_count": 344,
   "id": "religious-brain",
   "metadata": {},
   "outputs": [
    {
     "data": {
      "text/plain": [
       "0.8400984009840098"
      ]
     },
     "execution_count": 344,
     "metadata": {},
     "output_type": "execute_result"
    }
   ],
   "source": [
    "# Scoreing the SVC model\n",
    "model.score (X_test, y_test)"
   ]
  },
  {
   "cell_type": "markdown",
   "id": "thousand-niger",
   "metadata": {},
   "source": [
    "## Improving SVC By GridSearchCV"
   ]
  },
  {
   "cell_type": "markdown",
   "id": "after-donna",
   "metadata": {},
   "source": [
    "In task 2, RandomizedSearch CV was used, while I will use Gridsearch CV. The difference between them is that GridSearchcv tries evey single combination of hyperpat=rameters and save the best, while RandomizedSearch CV tries n_iterate combinations of hyperparaameteris"
   ]
  },
  {
   "cell_type": "code",
   "execution_count": 366,
   "id": "impressive-delivery",
   "metadata": {},
   "outputs": [
    {
     "name": "stdout",
     "output_type": "stream",
     "text": [
      "Wall time: 25min 1s\n"
     ]
    }
   ],
   "source": [
    "%%time\n",
    "%%capture test\n",
    "\n",
    "param_grid = {'C': [0.1, 1, 10, 100, 1000], # defining parameter range\n",
    "              'gamma': [1, 0.1, 0.01, 0.001, 0.0001],  # higher value of gamma will exactly fit the training datase\n",
    "              'kernel': ['rbf']} # The main function of the kernel is to transform the given dataset input data into the required form\n",
    "  \n",
    "grid = GridSearchCV(SVC(), param_grid, refit = True, verbose = 3);\n",
    "  \n",
    "# fitting the model for grid search\n",
    "grid.fit(X_train, y_train);"
   ]
  },
  {
   "cell_type": "code",
   "execution_count": 370,
   "id": "twelve-holder",
   "metadata": {},
   "outputs": [],
   "source": [
    "#print(test)"
   ]
  },
  {
   "cell_type": "code",
   "execution_count": 356,
   "id": "waiting-sphere",
   "metadata": {},
   "outputs": [
    {
     "data": {
      "text/plain": [
       "{'C': 100, 'gamma': 0.01, 'kernel': 'rbf'}"
      ]
     },
     "execution_count": 356,
     "metadata": {},
     "output_type": "execute_result"
    }
   ],
   "source": [
    "grid.best_params_ "
   ]
  },
  {
   "cell_type": "code",
   "execution_count": 357,
   "id": "french-energy",
   "metadata": {},
   "outputs": [
    {
     "data": {
      "text/plain": [
       "0.8591635916359164"
      ]
     },
     "execution_count": 357,
     "metadata": {},
     "output_type": "execute_result"
    }
   ],
   "source": [
    "# Scoreing the SVC model after changing hyper_parameter by GridSearchCV\n",
    "grid.score (X_test, y_test)"
   ]
  },
  {
   "cell_type": "markdown",
   "id": "center-tolerance",
   "metadata": {},
   "source": [
    "If we compare the result before and after hyperparameter tunning --> 2% growth is observed. our grid only has a limited number of combination ( folds for each of 25 candidates, totalling 125 fits) and a better processor or longer run is required to change the hypermarameters"
   ]
  },
  {
   "cell_type": "markdown",
   "id": "respiratory-commodity",
   "metadata": {},
   "source": [
    "## <font color='green'> Evaluation </font> "
   ]
  },
  {
   "cell_type": "markdown",
   "id": "neutral-immigration",
   "metadata": {},
   "source": [
    "In this section, the evaluation metrics try to be chosen based on the ones that we did not used in Task 2. "
   ]
  },
  {
   "cell_type": "code",
   "execution_count": 397,
   "id": "amateur-speed",
   "metadata": {},
   "outputs": [],
   "source": [
    "y_pred = grid.predict(X_test)"
   ]
  },
  {
   "cell_type": "code",
   "execution_count": 398,
   "id": "relevant-upgrade",
   "metadata": {},
   "outputs": [
    {
     "data": {
      "image/png": "[encoded data removed]",
      "text/plain": [
       "<Figure size 216x216 with 1 Axes>"
      ]
     },
     "metadata": {
      "needs_background": "light"
     },
     "output_type": "display_data"
    }
   ],
   "source": [
    "# Confusion matrix creation\n",
    "plot_conf_mat(y_test, y_pred , 'Confusion Matrix ')"
   ]
  },
  {
   "cell_type": "markdown",
   "id": "sustainable-implementation",
   "metadata": {},
   "source": [
    "## Classification Report"
   ]
  },
  {
   "cell_type": "markdown",
   "id": "european-forth",
   "metadata": {},
   "source": [
    "- **Precision:** : Porportion of positive identification which were actually correct\n",
    "- **Recall** : Poportion of actually positive which were correcly classified\n",
    "- **F1_Score** : Combination of precision & Recall\n",
    "- **Accuracy** : The Avg precision, recall and F1_score between classes\n",
    "- **Weighted Avg** : The weighted Avg precision, recall and F1_score between classes\n",
    "    - As we see in classification report, the best performance was seen in US_news. Also in task 2 we realise that US_News used more text to announce their news."
   ]
  },
  {
   "cell_type": "code",
   "execution_count": 368,
   "id": "recognized-alfred",
   "metadata": {},
   "outputs": [
    {
     "name": "stdout",
     "output_type": "stream",
     "text": [
      "              precision    recall  f1-score   support\n",
      "\n",
      "    Politics       0.86      0.82      0.84       553\n",
      "     UK-News       0.77      0.84      0.80       525\n",
      "     US-News       0.96      0.91      0.93       548\n",
      "\n",
      "    accuracy                           0.86      1626\n",
      "   macro avg       0.86      0.86      0.86      1626\n",
      "weighted avg       0.86      0.86      0.86      1626\n",
      "\n"
     ]
    }
   ],
   "source": [
    "print (classification_report (y_test, y_pred))"
   ]
  },
  {
   "cell_type": "markdown",
   "id": "threaded-costume",
   "metadata": {},
   "source": [
    "## Classification Report Using Cross-Validation"
   ]
  },
  {
   "cell_type": "markdown",
   "id": "durable-independence",
   "metadata": {},
   "source": [
    "In this section, a new svm.SVC model is created based on the best parameters and I use the whole clean datasets. It seems that with this approch and using 5 part for training the accuracy increased by 2.2%."
   ]
  },
  {
   "cell_type": "code",
   "execution_count": 372,
   "id": "offensive-projection",
   "metadata": {},
   "outputs": [],
   "source": [
    "# Recreate a model with best parameters\n",
    "clf = svm.SVC (C = 100, gamma= 0.01, kernel= 'rbf') # best params used "
   ]
  },
  {
   "cell_type": "markdown",
   "id": "polish-tender",
   "metadata": {},
   "source": [
    "#### Cross_validation accuracy"
   ]
  },
  {
   "cell_type": "code",
   "execution_count": 394,
   "id": "eligible-prefix",
   "metadata": {},
   "outputs": [
    {
     "name": "stdout",
     "output_type": "stream",
     "text": [
      "Cross_validation Accuracy Score for News datasets for 5 fold are\n",
      " :  [0.86623616 0.84225092 0.85885609 0.86241921 0.88088643]\n",
      "The Average of Cross_validation Accuracy Score for News datasets for 5 fold is :  0.8621297611868085\n",
      "Wall time: 1min 31s\n"
     ]
    }
   ],
   "source": [
    "%%time\n",
    "cv_acc = cross_val_score(clf,\n",
    "                         tokenize, # using all features\n",
    "                         concat_data.Label, # using all labels\n",
    "                         cv = 5,\n",
    "                         scoring = 'accuracy')\n",
    "print ('Cross_validation Accuracy Score for News datasets for 5 fold are\\n : ', cv_acc )\n",
    "print ('The Average of Cross_validation Accuracy Score for News datasets for 5 fold is : ', np.mean(cv_acc) )"
   ]
  },
  {
   "cell_type": "markdown",
   "id": "ordinary-maple",
   "metadata": {},
   "source": [
    "# Summary"
   ]
  },
  {
   "cell_type": "markdown",
   "id": "danish-blend",
   "metadata": {},
   "source": [
    "In this assignment, the given website was scraped using Beautifulsoup library. After that, 3 categories selected and data preperation phase completed for both Task 2 & Task 3. It seems that US_News tend to use more words to explain their titles and snippets. \n",
    "In the next phase the data was changed from text to number representation to prepare the news datasets for the training phase.\n",
    "In Binary Classification, 3 models compered and among those LinearRegression showed a better results and this model chose for further steps. Hyperparameter changed to improve the model and also differnt evaluation metrics calculated to give us a better understanding of the model. At the end SVC model for multi class classification was selected and all the steps repeated to analyse our model. Using Cross_val by using svm.SVC (C = 100, gamma= 0.01, kernel= 'rbf') model shows the best sccuracy result. "
   ]
  }
 ],
 "metadata": {
  "kernelspec": {
   "display_name": "Python 3",
   "language": "python",
   "name": "python3"
  },
  "language_info": {
   "codemirror_mode": {
    "name": "ipython",
    "version": 3
   },
   "file_extension": ".py",
   "mimetype": "text/x-python",
   "name": "python",
   "nbconvert_exporter": "python",
   "pygments_lexer": "ipython3",
   "version": "3.9.2"
  }
 },
 "nbformat": 4,
 "nbformat_minor": 5
}
